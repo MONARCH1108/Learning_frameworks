{
 "cells": [
  {
   "cell_type": "markdown",
   "id": "5b5f7cd2",
   "metadata": {},
   "source": [
    "## Basic_Graph"
   ]
  },
  {
   "cell_type": "code",
   "execution_count": 2,
   "id": "c9030b66",
   "metadata": {},
   "outputs": [],
   "source": [
    "from typing import Dict, TypedDict\n",
    "from langgraph.graph import StateGraph"
   ]
  },
  {
   "cell_type": "code",
   "execution_count": 3,
   "id": "f271c530",
   "metadata": {},
   "outputs": [],
   "source": [
    "class AgentState(TypedDict):\n",
    "    message : str\n",
    "\n",
    "def node_a(state: AgentState) -> AgentState:\n",
    "    state['message'] = \"hey \"+state[\"message\"]\n",
    "    return state"
   ]
  },
  {
   "cell_type": "code",
   "execution_count": 4,
   "id": "9c97bb65",
   "metadata": {},
   "outputs": [],
   "source": [
    "graph = StateGraph(AgentState)\n",
    "graph.add_node(\"Name_a\", node_a)\n",
    "graph.set_entry_point(\"Name_a\")\n",
    "graph.set_finish_point(\"Name_a\")\n",
    "app = graph.compile()"
   ]
  },
  {
   "cell_type": "code",
   "execution_count": 5,
   "id": "57ae0749",
   "metadata": {},
   "outputs": [
    {
     "data": {
      "image/png": "[encoded data removed]",
      "text/plain": [
       "<IPython.core.display.Image object>"
      ]
     },
     "metadata": {},
     "output_type": "display_data"
    }
   ],
   "source": [
    "from IPython.display import Image, display\n",
    "display(Image(app.get_graph().draw_mermaid_png()))"
   ]
  },
  {
   "cell_type": "code",
   "execution_count": 6,
   "id": "5e7f85a0",
   "metadata": {},
   "outputs": [
    {
     "data": {
      "text/plain": [
       "{'message': 'hey abhay'}"
      ]
     },
     "execution_count": 6,
     "metadata": {},
     "output_type": "execute_result"
    }
   ],
   "source": [
    "result = app.invoke({\"message\":\"abhay\"})\n",
    "result[\"message\"]\n",
    "result"
   ]
  },
  {
   "cell_type": "markdown",
   "id": "b693a7a6",
   "metadata": {},
   "source": [
    "## Learning_1"
   ]
  },
  {
   "cell_type": "code",
   "execution_count": 7,
   "id": "e1488411",
   "metadata": {},
   "outputs": [],
   "source": [
    "from typing import TypedDict, Dict\n",
    "from langgraph.graph import StateGraph"
   ]
  },
  {
   "cell_type": "code",
   "execution_count": 8,
   "id": "0419015e",
   "metadata": {},
   "outputs": [],
   "source": [
    "class AgentState(TypedDict):\n",
    "    message : str\n",
    "\n",
    "def node_a(state: AgentState) -> AgentState:\n",
    "    state[\"message\"] = state[\"message\"] + \" , doing an amzing Job, Man\"\n",
    "    return state"
   ]
  },
  {
   "cell_type": "code",
   "execution_count": 9,
   "id": "1d8b24e0",
   "metadata": {},
   "outputs": [],
   "source": [
    "graph = StateGraph(AgentState)\n",
    "graph.add_node(\"hello\", node_a)\n",
    "graph.set_entry_point(\"hello\")\n",
    "graph.set_finish_point(\"hello\")\n",
    "app = graph.compile()"
   ]
  },
  {
   "cell_type": "code",
   "execution_count": 10,
   "id": "bfebb50b",
   "metadata": {},
   "outputs": [
    {
     "data": {
      "image/png": "[encoded data removed]",
      "text/plain": [
       "<IPython.core.display.Image object>"
      ]
     },
     "metadata": {},
     "output_type": "display_data"
    }
   ],
   "source": [
    "from IPython.display import Image, display\n",
    "display(Image(app.get_graph().draw_mermaid_png()))"
   ]
  },
  {
   "cell_type": "code",
   "execution_count": 11,
   "id": "e4269151",
   "metadata": {},
   "outputs": [
    {
     "data": {
      "text/plain": [
       "('Hello Abhay , doing an amzing Job, Man',\n",
       " {'message': 'Hello Abhay , doing an amzing Job, Man'})"
      ]
     },
     "execution_count": 11,
     "metadata": {},
     "output_type": "execute_result"
    }
   ],
   "source": [
    "result = app.invoke({\"message\":\"Hello Abhay\"})\n",
    "result[\"message\"], result"
   ]
  },
  {
   "cell_type": "markdown",
   "id": "cdaa902b",
   "metadata": {},
   "source": [
    "## Graph 2"
   ]
  },
  {
   "cell_type": "code",
   "execution_count": 12,
   "id": "0083e11a",
   "metadata": {},
   "outputs": [],
   "source": [
    "from typing import TypedDict, List\n",
    "from langgraph.graph import StateGraph"
   ]
  },
  {
   "cell_type": "code",
   "execution_count": 13,
   "id": "67dd0429",
   "metadata": {},
   "outputs": [],
   "source": [
    "class AgentState(TypedDict):\n",
    "    values : List[int]\n",
    "    name : str\n",
    "    result : str"
   ]
  },
  {
   "cell_type": "code",
   "execution_count": 14,
   "id": "6b7eb75f",
   "metadata": {},
   "outputs": [],
   "source": [
    "def process_values(state: AgentState) -> AgentState:\n",
    "    state['result'] = f\"hello There {state['name']}, Your Sum = {sum(state['values'])}\"\n",
    "    return state"
   ]
  },
  {
   "cell_type": "code",
   "execution_count": 15,
   "id": "0bc10be3",
   "metadata": {},
   "outputs": [],
   "source": [
    "graph = StateGraph(AgentState)\n",
    "graph.add_node(\"Processor\", process_values)\n",
    "graph.set_entry_point(\"Processor\")\n",
    "graph.set_finish_point(\"Processor\")\n",
    "app = graph.compile()"
   ]
  },
  {
   "cell_type": "code",
   "execution_count": 16,
   "id": "860ab8f7",
   "metadata": {},
   "outputs": [
    {
     "data": {
      "image/png": "[encoded data removed]",
      "text/plain": [
       "<langgraph.graph.state.CompiledStateGraph object at 0x000001F3773F8F90>"
      ]
     },
     "execution_count": 16,
     "metadata": {},
     "output_type": "execute_result"
    }
   ],
   "source": [
    "app"
   ]
  },
  {
   "cell_type": "code",
   "execution_count": 17,
   "id": "cfe54e14",
   "metadata": {},
   "outputs": [],
   "source": [
    "result = app.invoke({\"values\": [1, 2, 3, 4], \"name\":\"abhay\"})"
   ]
  },
  {
   "cell_type": "code",
   "execution_count": 18,
   "id": "e9932f35",
   "metadata": {},
   "outputs": [
    {
     "data": {
      "text/plain": [
       "'abhay'"
      ]
     },
     "execution_count": 18,
     "metadata": {},
     "output_type": "execute_result"
    }
   ],
   "source": [
    "result[\"name\"]"
   ]
  },
  {
   "cell_type": "code",
   "execution_count": 19,
   "id": "c0eb9534",
   "metadata": {},
   "outputs": [
    {
     "data": {
      "text/plain": [
       "'hello There abhay, Your Sum = 10'"
      ]
     },
     "execution_count": 19,
     "metadata": {},
     "output_type": "execute_result"
    }
   ],
   "source": [
    "result[\"result\"]"
   ]
  },
  {
   "cell_type": "code",
   "execution_count": 20,
   "id": "3d719fcf",
   "metadata": {},
   "outputs": [
    {
     "data": {
      "text/plain": [
       "[1, 2, 3, 4]"
      ]
     },
     "execution_count": 20,
     "metadata": {},
     "output_type": "execute_result"
    }
   ],
   "source": [
    "result[\"values\"]"
   ]
  },
  {
   "cell_type": "code",
   "execution_count": 21,
   "id": "64c27fe1",
   "metadata": {},
   "outputs": [
    {
     "data": {
      "text/plain": [
       "{'values': [1, 2, 3, 4],\n",
       " 'name': 'abhay',\n",
       " 'result': 'hello There abhay, Your Sum = 10'}"
      ]
     },
     "execution_count": 21,
     "metadata": {},
     "output_type": "execute_result"
    }
   ],
   "source": [
    "result"
   ]
  },
  {
   "cell_type": "markdown",
   "id": "eae265a6",
   "metadata": {},
   "source": [
    "## Learning_2"
   ]
  },
  {
   "cell_type": "code",
   "execution_count": 22,
   "id": "21cd2662",
   "metadata": {},
   "outputs": [],
   "source": [
    "from typing import TypedDict, List\n",
    "from langgraph.graph import StateGraph\n",
    "from functools import reduce\n",
    "import operator"
   ]
  },
  {
   "cell_type": "code",
   "execution_count": 23,
   "id": "aa4dfb51",
   "metadata": {},
   "outputs": [],
   "source": [
    "class AgentState(TypedDict):\n",
    "    name: str\n",
    "    values: List[int]\n",
    "    operation: str\n",
    "    result: str"
   ]
  },
  {
   "cell_type": "code",
   "execution_count": 24,
   "id": "2618c95d",
   "metadata": {},
   "outputs": [],
   "source": [
    "def process_node(state: AgentState) -> AgentState:\n",
    "    if state['operation'] == '+':\n",
    "        total = sum(state['values'])\n",
    "    elif state['operation'] == '*':\n",
    "        total = reduce(operator.mul, state['values'], 1)\n",
    "    else:\n",
    "        total = 0  # default if unknown operation\n",
    "    state['result'] = f\"Hi {state['name']}, your answer is: {total}\"\n",
    "    return state"
   ]
  },
  {
   "cell_type": "code",
   "execution_count": 25,
   "id": "25f5ed13",
   "metadata": {},
   "outputs": [],
   "source": [
    "graph = StateGraph(AgentState)\n",
    "graph.add_node(\"Compute\", process_node)\n",
    "graph.set_entry_point(\"Compute\")\n",
    "graph.set_finish_point(\"Compute\")\n",
    "app = graph.compile()"
   ]
  },
  {
   "cell_type": "code",
   "execution_count": 26,
   "id": "9a81de6c",
   "metadata": {},
   "outputs": [
    {
     "data": {
      "image/png": "[encoded data removed]",
      "text/plain": [
       "<langgraph.graph.state.CompiledStateGraph object at 0x000001F3773FBF90>"
      ]
     },
     "execution_count": 26,
     "metadata": {},
     "output_type": "execute_result"
    }
   ],
   "source": [
    "app"
   ]
  },
  {
   "cell_type": "code",
   "execution_count": 27,
   "id": "07825c9d",
   "metadata": {},
   "outputs": [
    {
     "name": "stdout",
     "output_type": "stream",
     "text": [
      "Hi Jack Sparrow, your answer is: 24\n"
     ]
    }
   ],
   "source": [
    "input_data = {\"name\": \"Jack Sparrow\", \"values\": [1, 2, 3, 4], \"operation\": \"*\"}\n",
    "result = app.invoke(input_data)\n",
    "print(result['result'])"
   ]
  },
  {
   "cell_type": "markdown",
   "id": "d000ac67",
   "metadata": {},
   "source": [
    "## Graph-3"
   ]
  },
  {
   "cell_type": "code",
   "execution_count": 28,
   "id": "169f031c",
   "metadata": {},
   "outputs": [],
   "source": [
    "from typing import TypedDict\n",
    "from langgraph.graph import StateGraph"
   ]
  },
  {
   "cell_type": "code",
   "execution_count": 29,
   "id": "13ea19ef",
   "metadata": {},
   "outputs": [],
   "source": [
    "class AgentState(TypedDict):\n",
    "    name : str\n",
    "    age : str\n",
    "    final : str"
   ]
  },
  {
   "cell_type": "code",
   "execution_count": 30,
   "id": "ec77b6ba",
   "metadata": {},
   "outputs": [],
   "source": [
    "def first_node(state: AgentState) -> AgentState:\n",
    "    state['final'] = f\"hello, {state['name']}\"\n",
    "    return state\n",
    "\n",
    "def second_node(state: AgentState) -> AgentState:\n",
    "    state['final'] = state['final'] + f\" you are {state['age']} years old!!\"\n",
    "    return state"
   ]
  },
  {
   "cell_type": "code",
   "execution_count": 31,
   "id": "243058d2",
   "metadata": {},
   "outputs": [],
   "source": [
    "graph = StateGraph(AgentState)\n",
    "graph.add_node(\"node_a\", first_node)\n",
    "graph.add_node(\"node_b\", second_node)\n",
    "graph.set_entry_point(\"node_a\")\n",
    "graph.add_edge(\"node_a\", \"node_b\")\n",
    "graph.set_finish_point(\"node_b\")\n",
    "app = graph.compile()"
   ]
  },
  {
   "cell_type": "code",
   "execution_count": 32,
   "id": "6dc1b1b6",
   "metadata": {},
   "outputs": [
    {
     "data": {
      "image/png": "[encoded data removed]",
      "text/plain": [
       "<langgraph.graph.state.CompiledStateGraph object at 0x000001F37740A410>"
      ]
     },
     "execution_count": 32,
     "metadata": {},
     "output_type": "execute_result"
    }
   ],
   "source": [
    "app"
   ]
  },
  {
   "cell_type": "code",
   "execution_count": 33,
   "id": "a5a29a99",
   "metadata": {},
   "outputs": [
    {
     "data": {
      "text/plain": [
       "'hello, abhay you are 23 years old!!'"
      ]
     },
     "execution_count": 33,
     "metadata": {},
     "output_type": "execute_result"
    }
   ],
   "source": [
    "result = app.invoke({'name':'abhay', 'age':23})\n",
    "result['final']"
   ]
  },
  {
   "cell_type": "markdown",
   "id": "c9081eb6",
   "metadata": {},
   "source": [
    "## Learn_3"
   ]
  },
  {
   "cell_type": "code",
   "execution_count": 34,
   "id": "14a32217",
   "metadata": {},
   "outputs": [],
   "source": [
    "from typing import TypedDict, List\n",
    "from langgraph.graph import StateGraph\n",
    "class AgentState(TypedDict):\n",
    "    name : str\n",
    "    age : str\n",
    "    skills : List[str]\n",
    "    final : str"
   ]
  },
  {
   "cell_type": "code",
   "execution_count": 35,
   "id": "a96ee015",
   "metadata": {},
   "outputs": [],
   "source": [
    "def first_node(state: AgentState) -> AgentState:\n",
    "    state['final'] = f\"hello, {state['name']}\"\n",
    "    return state\n",
    "\n",
    "def second_node(state: AgentState) -> AgentState:\n",
    "    state['final'] = state['final'] + f\" you are {state['age']} years old!!\"\n",
    "    return state\n",
    "\n",
    "def third_node(state: AgentState) -> AgentState:\n",
    "    state['final'] = state['final'] + f\" you Skills {state['skills']}\"\n",
    "    return state"
   ]
  },
  {
   "cell_type": "code",
   "execution_count": 36,
   "id": "b401f681",
   "metadata": {},
   "outputs": [],
   "source": [
    "graph = StateGraph(AgentState)\n",
    "graph.add_node(\"node_a\", first_node)\n",
    "graph.add_node(\"node_b\", second_node)\n",
    "graph.add_node(\"node_c\", third_node)\n",
    "graph.set_entry_point(\"node_a\")\n",
    "graph.add_edge(\"node_a\", \"node_b\")\n",
    "graph.add_edge(\"node_b\", \"node_c\")\n",
    "graph.set_finish_point(\"node_c\")\n",
    "app = graph.compile()"
   ]
  },
  {
   "cell_type": "code",
   "execution_count": 37,
   "id": "c7012ebd",
   "metadata": {},
   "outputs": [
    {
     "data": {
      "image/png": "[encoded data removed]",
      "text/plain": [
       "<langgraph.graph.state.CompiledStateGraph object at 0x000001F377418150>"
      ]
     },
     "execution_count": 37,
     "metadata": {},
     "output_type": "execute_result"
    }
   ],
   "source": [
    "app"
   ]
  },
  {
   "cell_type": "code",
   "execution_count": 38,
   "id": "a923b7d6",
   "metadata": {},
   "outputs": [],
   "source": [
    "result = app.invoke({\"age\":20, \"name\":\"abhay\", \"skills\":['python', 'SQL', 'JS']})"
   ]
  },
  {
   "cell_type": "code",
   "execution_count": 39,
   "id": "dd938d7d",
   "metadata": {},
   "outputs": [
    {
     "data": {
      "text/plain": [
       "{'name': 'abhay',\n",
       " 'age': 20,\n",
       " 'skills': ['python', 'SQL', 'JS'],\n",
       " 'final': \"hello, abhay you are 20 years old!! you Skills ['python', 'SQL', 'JS']\"}"
      ]
     },
     "execution_count": 39,
     "metadata": {},
     "output_type": "execute_result"
    }
   ],
   "source": [
    "result"
   ]
  },
  {
   "cell_type": "markdown",
   "id": "d9fff4e8",
   "metadata": {},
   "source": [
    "## Graph-4"
   ]
  },
  {
   "cell_type": "code",
   "execution_count": 40,
   "id": "fdafd845",
   "metadata": {},
   "outputs": [],
   "source": [
    "from typing import TypedDict\n",
    "from langgraph.graph import StateGraph, START, END"
   ]
  },
  {
   "cell_type": "code",
   "execution_count": 41,
   "id": "4f0b9a84",
   "metadata": {},
   "outputs": [],
   "source": [
    "class AgentState(TypedDict):\n",
    "    number1:int\n",
    "    number2:int\n",
    "    operation:str\n",
    "    finalnumber:int"
   ]
  },
  {
   "cell_type": "code",
   "execution_count": 42,
   "id": "862273f1",
   "metadata": {},
   "outputs": [],
   "source": [
    "def adder(state:AgentState) -> AgentState:\n",
    "    state['finalnumber'] = state['number1'] + state['number2']\n",
    "    return state\n",
    "\n",
    "def subtracter(state:AgentState) -> AgentState:\n",
    "    state['finalnumber'] = state['number1'] - state['number2']\n",
    "    return state\n",
    "\n",
    "def multiplicater(state:AgentState) -> AgentState:\n",
    "    state['finalnumber'] = state['number1'] * state['number2']\n",
    "    return state\n",
    "\n",
    "def decide_next_node(state:AgentState) -> AgentState:\n",
    "    if state['operation'] == \"+\":\n",
    "        return \"addtion_ops\"\n",
    "    elif state['operation'] == \"-\":\n",
    "        return \"subtraction_ops\"\n",
    "    elif state['operation'] == \"*\":\n",
    "        return \"multiplication_ops\""
   ]
  },
  {
   "cell_type": "code",
   "execution_count": 43,
   "id": "4eb0de2e",
   "metadata": {},
   "outputs": [],
   "source": [
    "graph = StateGraph(AgentState)\n",
    "graph.add_node(\"adder_node\",adder)\n",
    "graph.add_node(\"sub_node\",subtracter)\n",
    "graph.add_node(\"mult_node\", multiplicater)\n",
    "graph.add_node(\"router\", lambda state:state)\n",
    "graph.add_edge(START, \"router\") \n",
    "graph.add_conditional_edges(\n",
    "    \"router\", decide_next_node,\n",
    "    {\n",
    "        #edge:Node\n",
    "        \"addtion_ops\":\"adder_node\",\n",
    "        \"subtraction_ops\":\"sub_node\",\n",
    "        \"multiplication_ops\":\"mult_node\"\n",
    "    }\n",
    ")\n",
    "graph.add_edge(\"adder_node\",END)\n",
    "graph.add_edge(\"sub_node\",END)\n",
    "graph.add_edge(\"mult_node\", END)\n",
    "app = graph.compile()"
   ]
  },
  {
   "cell_type": "code",
   "execution_count": 44,
   "id": "cdbeba09",
   "metadata": {},
   "outputs": [
    {
     "data": {
      "image/png": "[encoded data removed]",
      "text/plain": [
       "<langgraph.graph.state.CompiledStateGraph object at 0x000001F37742C650>"
      ]
     },
     "execution_count": 44,
     "metadata": {},
     "output_type": "execute_result"
    }
   ],
   "source": [
    "app"
   ]
  },
  {
   "cell_type": "code",
   "execution_count": 45,
   "id": "752ea013",
   "metadata": {},
   "outputs": [
    {
     "name": "stdout",
     "output_type": "stream",
     "text": [
      "{'number1': 10, 'number2': 20, 'operation': '-', 'finalnumber': -10}\n"
     ]
    }
   ],
   "source": [
    "state_1 = AgentState(number1=10, number2=20, operation=\"-\")\n",
    "print(app.invoke(state_1))"
   ]
  },
  {
   "cell_type": "code",
   "execution_count": 46,
   "id": "cf3b6817",
   "metadata": {},
   "outputs": [
    {
     "name": "stdout",
     "output_type": "stream",
     "text": [
      "{'number1': 10, 'number2': 20, 'operation': '*', 'finalnumber': 200}\n"
     ]
    }
   ],
   "source": [
    "state_2 = AgentState(number1=10,number2=20, operation=\"*\")\n",
    "print(app.invoke(state_2))"
   ]
  },
  {
   "cell_type": "code",
   "execution_count": 47,
   "id": "c4f4a971",
   "metadata": {},
   "outputs": [
    {
     "name": "stdout",
     "output_type": "stream",
     "text": [
      "{'number1': 10, 'number2': 20, 'operation': '+', 'finalnumber': 30}\n"
     ]
    }
   ],
   "source": [
    "state_3 = AgentState(number1=10,number2=20, operation=\"+\")\n",
    "print(app.invoke(state_3))"
   ]
  },
  {
   "cell_type": "markdown",
   "id": "c168d000",
   "metadata": {},
   "source": [
    "## Learn_4"
   ]
  },
  {
   "cell_type": "code",
   "execution_count": 48,
   "id": "ff200b17",
   "metadata": {},
   "outputs": [],
   "source": [
    "from typing import TypedDict\n",
    "from langgraph.graph import StateGraph, START, END"
   ]
  },
  {
   "cell_type": "code",
   "execution_count": 49,
   "id": "824778ab",
   "metadata": {},
   "outputs": [],
   "source": [
    "class AgentState(TypedDict):\n",
    "    number1: int\n",
    "    number2: int\n",
    "    number3: int\n",
    "    number4: int\n",
    "    operation: str\n",
    "    operation2: str\n",
    "    finalNumber: int\n",
    "    finalNumber2: int"
   ]
  },
  {
   "cell_type": "code",
   "execution_count": 50,
   "id": "5b8b28b0",
   "metadata": {},
   "outputs": [],
   "source": [
    "def add_node(state: AgentState) -> AgentState:\n",
    "    state[\"finalNumber\"] = state[\"number1\"] + state[\"number2\"]\n",
    "    return state\n",
    "\n",
    "def subtract_node(state: AgentState) -> AgentState:\n",
    "    state[\"finalNumber\"] = state[\"number1\"] - state[\"number2\"]\n",
    "    return state\n",
    "\n",
    "def add_node2(state: AgentState) -> AgentState:\n",
    "    state[\"finalNumber2\"] = state[\"number3\"] + state[\"number4\"]\n",
    "    return state\n",
    "\n",
    "def subtract_node2(state: AgentState) -> AgentState:\n",
    "    state[\"finalNumber2\"] = state[\"number3\"] - state[\"number4\"]\n",
    "    return state"
   ]
  },
  {
   "cell_type": "code",
   "execution_count": 51,
   "id": "e872bcf0",
   "metadata": {},
   "outputs": [],
   "source": [
    "def router(state: AgentState) -> str:\n",
    "    if state[\"operation\"] == \"+\":\n",
    "        return \"addition_operation\"\n",
    "    elif state[\"operation\"] == \"-\":\n",
    "        return \"subtraction_operation\"\n",
    "\n",
    "def router2(state: AgentState) -> str:\n",
    "    if state[\"operation2\"] == \"+\":\n",
    "        return \"addition_operation2\"\n",
    "    elif state[\"operation2\"] == \"-\":\n",
    "        return \"subtraction_operation2\""
   ]
  },
  {
   "cell_type": "code",
   "execution_count": 52,
   "id": "fd8b0927",
   "metadata": {},
   "outputs": [
    {
     "data": {
      "text/plain": [
       "<langgraph.graph.state.StateGraph at 0x1f377428710>"
      ]
     },
     "execution_count": 52,
     "metadata": {},
     "output_type": "execute_result"
    }
   ],
   "source": [
    "graph = StateGraph(AgentState)\n",
    "graph.add_node(\"add_node\", add_node)\n",
    "graph.add_node(\"subtract_node\", subtract_node)\n",
    "graph.add_node(\"add_node2\", add_node2)\n",
    "graph.add_node(\"subtract_node2\", subtract_node2)\n",
    "graph.add_node(\"router\", lambda state: state)\n",
    "graph.add_node(\"router2\", lambda state: state)"
   ]
  },
  {
   "cell_type": "code",
   "execution_count": 53,
   "id": "8a069cf2",
   "metadata": {},
   "outputs": [
    {
     "name": "stdout",
     "output_type": "stream",
     "text": [
      "{'number1': 10, 'number2': 5, 'number3': 7, 'number4': 2, 'operation': '-', 'operation2': '+', 'finalNumber': 5, 'finalNumber2': 9}\n"
     ]
    }
   ],
   "source": [
    "graph.add_edge(START, \"router\")\n",
    "graph.add_conditional_edges(\"router\", router, {\n",
    "    \"addition_operation\": \"add_node\",\n",
    "    \"subtraction_operation\": \"subtract_node\",\n",
    "})\n",
    "graph.add_edge(\"add_node\", \"router2\")\n",
    "graph.add_edge(\"subtract_node\", \"router2\")\n",
    "graph.add_conditional_edges(\"router2\", router2, {\n",
    "    \"addition_operation2\": \"add_node2\",\n",
    "    \"subtraction_operation2\": \"subtract_node2\",\n",
    "})\n",
    "graph.add_edge(\"add_node2\", END)\n",
    "graph.add_edge(\"subtract_node2\", END)\n",
    "app = graph.compile()\n",
    "initial_state = {\n",
    "    \"number1\": 10,\n",
    "    \"number2\": 5,\n",
    "    \"number3\": 7,\n",
    "    \"number4\": 2,\n",
    "    \"operation\": \"-\",\n",
    "    \"operation2\": \"+\",\n",
    "    \"finalNumber\": 0,\n",
    "    \"finalNumber2\": 0,\n",
    "}\n",
    "result = app.invoke(initial_state)\n",
    "print(result)"
   ]
  },
  {
   "cell_type": "code",
   "execution_count": 54,
   "id": "351a385e",
   "metadata": {},
   "outputs": [
    {
     "data": {
      "image/png": "[encoded data removed]",
      "text/plain": [
       "<langgraph.graph.state.CompiledStateGraph object at 0x000001F37742B7D0>"
      ]
     },
     "execution_count": 54,
     "metadata": {},
     "output_type": "execute_result"
    }
   ],
   "source": [
    "app"
   ]
  },
  {
   "cell_type": "markdown",
   "id": "1a8057a6",
   "metadata": {},
   "source": [
    "## Graph-5"
   ]
  },
  {
   "cell_type": "code",
   "execution_count": 55,
   "id": "c1c95419",
   "metadata": {},
   "outputs": [],
   "source": [
    "from langgraph.graph import StateGraph, END\n",
    "import random\n",
    "from typing import Dict, List, TypedDict"
   ]
  },
  {
   "cell_type": "code",
   "execution_count": 56,
   "id": "a73f5563",
   "metadata": {},
   "outputs": [],
   "source": [
    "class AgentState(TypedDict):\n",
    "    name:str\n",
    "    number:List[int]\n",
    "    counter:int"
   ]
  },
  {
   "cell_type": "code",
   "execution_count": 65,
   "id": "b6b27800",
   "metadata": {},
   "outputs": [],
   "source": [
    "def greeting_node(state: AgentState) -> AgentState:\n",
    "    state['name'] = f\"hi there, {state['name']}\"\n",
    "    state['counter'] = 0\n",
    "    return state\n",
    "\n",
    "def random_node(state: AgentState)-> AgentState:\n",
    "    state['number'].append(random.randint(0,10))\n",
    "    state['counter'] += 1\n",
    "    return state\n",
    "\n",
    "def should_continue(state: AgentState) -> AgentState:\n",
    "    if state['counter'] < 5:\n",
    "        print(\"ENTERING LOOP\", state['counter'])\n",
    "        return 'loop'\n",
    "    else:\n",
    "        return 'exit'\n",
    "    \n",
    "# greeting -> random -> random -> random -> random -> random -> END"
   ]
  },
  {
   "cell_type": "code",
   "execution_count": 66,
   "id": "38ce02dc",
   "metadata": {},
   "outputs": [
    {
     "data": {
      "text/plain": [
       "<langgraph.graph.state.StateGraph at 0x1f3774db690>"
      ]
     },
     "execution_count": 66,
     "metadata": {},
     "output_type": "execute_result"
    }
   ],
   "source": [
    "graph = StateGraph(AgentState)\n",
    "graph.add_node(\"greeting\", greeting_node)\n",
    "graph.add_node(\"random\", random_node)\n",
    "graph.add_edge(\"greeting\",\"random\")\n",
    "graph.add_conditional_edges(\n",
    "    \"random\", should_continue,\n",
    "    {\n",
    "        \"loop\" : \"random\",\n",
    "        \"exit\" : END\n",
    "    }\n",
    ")\n",
    "graph.set_entry_point(\"greeting\")"
   ]
  },
  {
   "cell_type": "code",
   "execution_count": 67,
   "id": "00d23090",
   "metadata": {},
   "outputs": [
    {
     "data": {
      "image/png": "[encoded data removed]",
      "text/plain": [
       "<langgraph.graph.state.CompiledStateGraph object at 0x000001F377A00B10>"
      ]
     },
     "execution_count": 67,
     "metadata": {},
     "output_type": "execute_result"
    }
   ],
   "source": [
    "app = graph.compile()\n",
    "app"
   ]
  },
  {
   "cell_type": "code",
   "execution_count": 75,
   "id": "9999aa86",
   "metadata": {},
   "outputs": [
    {
     "name": "stdout",
     "output_type": "stream",
     "text": [
      "ENTERING LOOP 1\n",
      "ENTERING LOOP 2\n",
      "ENTERING LOOP 3\n",
      "ENTERING LOOP 4\n"
     ]
    },
    {
     "data": {
      "text/plain": [
       "{'name': 'hi there, abhay', 'number': [3, 0, 6, 9, 10], 'counter': 5}"
      ]
     },
     "execution_count": 75,
     "metadata": {},
     "output_type": "execute_result"
    }
   ],
   "source": [
    "app.invoke({\"name\":\"abhay\", \"number\":[], \"counter\":-1000})"
   ]
  },
  {
   "cell_type": "markdown",
   "id": "7ea3c2d9",
   "metadata": {},
   "source": [
    "# AI Agent-1"
   ]
  },
  {
   "cell_type": "code",
   "execution_count": 77,
   "id": "d90c2aaa",
   "metadata": {},
   "outputs": [],
   "source": [
    "from typing import TypedDict, List\n",
    "from langchain_core.messages import HumanMessage\n",
    "from langchain_google_genai import ChatGoogleGenerativeAI\n",
    "from langgraph.graph import StateGraph, START, END\n",
    "from dotenv import load_dotenv"
   ]
  },
  {
   "cell_type": "code",
   "execution_count": 78,
   "id": "6ca94731",
   "metadata": {},
   "outputs": [
    {
     "data": {
      "text/plain": [
       "True"
      ]
     },
     "execution_count": 78,
     "metadata": {},
     "output_type": "execute_result"
    }
   ],
   "source": [
    "load_dotenv()"
   ]
  },
  {
   "cell_type": "code",
   "execution_count": null,
   "id": "7f5a26f5",
   "metadata": {},
   "outputs": [],
   "source": [
    "class AgentState(TypedDict):\n",
    "    messages: List[HumanMessage]"
   ]
  },
  {
   "cell_type": "code",
   "execution_count": 83,
   "id": "71be476d",
   "metadata": {},
   "outputs": [],
   "source": [
    "llm = ChatGoogleGenerativeAI(\n",
    "    model=\"gemini-2.5-pro\",\n",
    "    temperature=0.2,\n",
    ")"
   ]
  },
  {
   "cell_type": "code",
   "execution_count": 84,
   "id": "d985e9d2",
   "metadata": {},
   "outputs": [],
   "source": [
    "def process(state: AgentState) -> AgentState:\n",
    "    response = llm.invoke(state['messages'])\n",
    "    print(f\"AI Response: {response.content}\")\n",
    "    return state"
   ]
  },
  {
   "cell_type": "code",
   "execution_count": 86,
   "id": "d0f7c5a7",
   "metadata": {},
   "outputs": [],
   "source": [
    "graph = StateGraph(AgentState)\n",
    "graph.add_node(\"process\", process)\n",
    "graph.add_edge(START, \"process\")\n",
    "graph.add_edge(\"process\", END)\n",
    "agent = graph.compile()"
   ]
  },
  {
   "cell_type": "code",
   "execution_count": 87,
   "id": "31d4696e",
   "metadata": {},
   "outputs": [
    {
     "data": {
      "image/png": "[encoded data removed]",
      "text/plain": [
       "<langgraph.graph.state.CompiledStateGraph object at 0x000001F37A3FC710>"
      ]
     },
     "execution_count": 87,
     "metadata": {},
     "output_type": "execute_result"
    }
   ],
   "source": [
    "agent"
   ]
  },
  {
   "cell_type": "code",
   "execution_count": 88,
   "id": "a35f1ce2",
   "metadata": {},
   "outputs": [
    {
     "name": "stdout",
     "output_type": "stream",
     "text": [
      "AI Response: Hello! I'm doing very well, thank you for asking.\n",
      "\n",
      "How can I help you today?\n"
     ]
    },
    {
     "data": {
      "text/plain": [
       "{'messages': [HumanMessage(content='hello how are you', additional_kwargs={}, response_metadata={})]}"
      ]
     },
     "execution_count": 88,
     "metadata": {},
     "output_type": "execute_result"
    }
   ],
   "source": [
    "user_input = input(\"Enter: \")\n",
    "agent.invoke({\"messages\":[HumanMessage(content=user_input)]})"
   ]
  },
  {
   "cell_type": "code",
   "execution_count": 89,
   "id": "c21b71dc",
   "metadata": {},
   "outputs": [
    {
     "name": "stdout",
     "output_type": "stream",
     "text": [
      "AI Response: Hello! How can I help you today?\n",
      "AI Response: Of course! It's a great question. At my core, I am a large language model, trained by Google. Think of me as a very complex pattern-matching and prediction engine, designed to understand and generate human-like text.\n",
      "\n",
      "Here's a breakdown of what I am capable of, from the simple to the complex:\n",
      "\n",
      "### 1. Understanding and Processing Information\n",
      "\n",
      "*   **Answering Questions:** I can answer a vast range of questions, from simple facts (\"What is the capital of Mongolia?\") to complex, abstract concepts (\"Explain the theory of general relativity in simple terms.\").\n",
      "*   **Summarizing:** You can give me a long article, a research paper, a book chapter, or a conversation transcript, and I can condense it into key points.\n",
      "*   **Explaining:** I can break down difficult topics (like quantum computing, blockchain, or economic theories) into easier-to-understand language.\n",
      "*   **Extracting Information:** I can pull specific data points from a block of text, like names, dates, or key statistics.\n",
      "\n",
      "### 2. Generating and Creating Content\n",
      "\n",
      "*   **Writing:** I can draft emails, essays, reports, blog posts, resumes, and cover letters. You can specify the tone (formal, casual, humorous) and the target audience.\n",
      "*   **Creative Writing:** I can write poems, song lyrics, short stories, and even scripts in various styles.\n",
      "*   **Brainstorming:** If you're stuck, I can be a great creative partner. I can help you brainstorm ideas for a business name, a party theme, a story plot, or a project plan.\n",
      "*   **Coding:** I can write, debug, explain, and translate code in many programming languages, including Python, JavaScript, C++, Java, and SQL.\n",
      "\n",
      "### 3. Interacting and Conversing\n",
      "\n",
      "*   **Translation:** I can translate text between dozens of languages with a high degree of accuracy.\n",
      "*   **Role-playing:** I can adopt a persona for various scenarios, such as a job interviewer, a travel guide, a historical figure, or a character in a story. This is great for practice or entertainment.\n",
      "*   **Conversation:** I can hold a conversation, remember the context of our discussion, and adapt my responses based on what we've talked about.\n",
      "*   **Rewriting and Editing:** I can act as a grammar checker, a style editor, or a tool to rephrase your text to make it clearer, more concise, or more impactful.\n",
      "\n",
      "### 4. Reasoning and Problem-Solving\n",
      "\n",
      "*   **Logic and Reasoning:** I can work through logic puzzles, word problems, and step-by-step instructions.\n",
      "*   **Planning:** I can help you create a travel itinerary, a workout plan, a project outline, or a weekly meal plan.\n",
      "*   **Analysis:** I can help you analyze the pros and cons of a decision, compare and contrast different products, or structure an argument.\n",
      "\n",
      "---\n",
      "\n",
      "### My Limitations (Just as Important to Know)\n",
      "\n",
      "To give you a complete picture, it's crucial to understand what I *can't* do:\n",
      "\n",
      "*   **I don't have personal experiences, feelings, or consciousness.** I don't \"know\" or \"feel\" things. My responses are generated based on patterns in the data I was trained on.\n",
      "*   **My knowledge has a cutoff date.** I don't have real-time information about events that have happened since my last major training update. I cannot browse the live internet.\n",
      "*   **I can be wrong.** I can make mistakes, misunderstand nuance, or \"hallucinate\" information that sounds plausible but is factually incorrect. It's always a good idea to fact-check critical information.\n",
      "*   **I don't have personal opinions or beliefs.** Any \"opinion\" I express is a reflection of the information in my training data, not a personal conviction.\n",
      "*   **I cannot perform physical actions.** I exist only as code and data; I can't see, hear, or interact with the physical world.\n",
      "\n",
      "In short, you can think of me as a versatile and powerful tool for processing and generating language. The best way to see what I can do is to test me out! **How can I help you today?**\n"
     ]
    }
   ],
   "source": [
    "user_input = input(\"Enter: \")\n",
    "while user_input != \"exit\":\n",
    "    agent.invoke({\"messages\":[HumanMessage(content=user_input)]})\n",
    "    user_input = input(\"Enter: \")"
   ]
  },
  {
   "cell_type": "markdown",
   "id": "85e63e46",
   "metadata": {},
   "source": [
    "## AI Agent-2"
   ]
  },
  {
   "cell_type": "code",
   "execution_count": 90,
   "id": "b5a59be5",
   "metadata": {},
   "outputs": [],
   "source": [
    "import os\n",
    "from typing import TypedDict, List, Union\n",
    "from langchain_core.messages import HumanMessage, AIMessage\n",
    "from langchain_google_genai import ChatGoogleGenerativeAI\n",
    "from langgraph.graph import StateGraph, START, END\n",
    "from dotenv import load_dotenv"
   ]
  },
  {
   "cell_type": "code",
   "execution_count": 91,
   "id": "d5df8d5f",
   "metadata": {},
   "outputs": [
    {
     "data": {
      "text/plain": [
       "True"
      ]
     },
     "execution_count": 91,
     "metadata": {},
     "output_type": "execute_result"
    }
   ],
   "source": [
    "load_dotenv()"
   ]
  },
  {
   "cell_type": "code",
   "execution_count": 93,
   "id": "37252bd9",
   "metadata": {},
   "outputs": [],
   "source": [
    "class AgentState(TypedDict):\n",
    "    messages: List[Union[HumanMessage, AIMessage]]"
   ]
  },
  {
   "cell_type": "code",
   "execution_count": 94,
   "id": "49a4a4bd",
   "metadata": {},
   "outputs": [],
   "source": [
    "llm = ChatGoogleGenerativeAI(\n",
    "    model=\"gemini-2.5-pro\",\n",
    "    temperature=0.2,\n",
    ")"
   ]
  },
  {
   "cell_type": "code",
   "execution_count": 95,
   "id": "10cb76ca",
   "metadata": {},
   "outputs": [],
   "source": [
    "def process(state: AgentState) -> AgentState:\n",
    "    response = llm.invoke(state['messages'])\n",
    "    state['messages'].append(AIMessage(content=response.content))\n",
    "    print(f\"AI :  {response.content}\")\n",
    "    return state"
   ]
  },
  {
   "cell_type": "code",
   "execution_count": 96,
   "id": "efbee01d",
   "metadata": {},
   "outputs": [],
   "source": [
    "graph = StateGraph(AgentState)\n",
    "graph.add_node(\"process\", process)\n",
    "graph.add_edge(START, \"process\")\n",
    "graph.add_edge(\"process\", END)\n",
    "agent = graph.compile()"
   ]
  },
  {
   "cell_type": "code",
   "execution_count": 99,
   "id": "8cd945e1",
   "metadata": {},
   "outputs": [
    {
     "name": "stdout",
     "output_type": "stream",
     "text": [
      "AI :  Hello! How can I help you today?\n",
      "[HumanMessage(content='hi', additional_kwargs={}, response_metadata={}), AIMessage(content='Hello! How can I help you today?', additional_kwargs={}, response_metadata={})]\n",
      "AI :  That is one of the most profound questions a person can ask. There's no single answer, as it's been debated by philosophers, scientists, spiritual leaders, and everyday people for thousands of years.\n",
      "\n",
      "We can look at the question in a few different ways:\n",
      "\n",
      "### 1. The Scientific / Biological Answer\n",
      "\n",
      "From a biological perspective, life is a characteristic that distinguishes physical entities that have biological processes (like signaling and self-sustaining processes) from those that do not. An organism is considered \"alive\" if it has most of these traits:\n",
      "\n",
      "*   **Organization:** Made of one or more cells.\n",
      "*   **Metabolism:** Uses energy to maintain itself.\n",
      "*   **Homeostasis:** Maintains a stable internal environment.\n",
      "*   **Growth:** Increases in size over time.\n",
      "*   **Reproduction:** Can create new organisms.\n",
      "*   **Response to Stimuli:** Reacts to changes in its environment.\n",
      "*   **Evolution:** The ability of a population to change over generations.\n",
      "\n",
      "In this sense, \"life\" is a complex chemical process, a way for matter to organize itself to survive and replicate.\n",
      "\n",
      "### 2. The Philosophical / Meaning-Based Answer\n",
      "\n",
      "This is usually what people mean when they ask, \"What is life?\" They're asking about its **purpose** or **meaning**. Here are some of the most common perspectives:\n",
      "\n",
      "*   **Religious/Spiritual View:** Life is a gift from a divine being. Its purpose is to serve that being, follow a set of moral codes, and achieve a state of grace, enlightenment, or a good afterlife (e.g., Heaven, Nirvana).\n",
      "*   **Humanistic View:** Life has no pre-ordained meaning. Its purpose is what we give it. This often involves seeking happiness, creating positive relationships, contributing to the well-being of humanity, and leaving the world a better place.\n",
      "*   **Existentialist View:** This view starts with the idea that \"existence precedes essence.\" This means you are born without a set purpose, into a seemingly meaningless universe. The challenge and beauty of life is to *create your own meaning and purpose* through your choices and actions.\n",
      "*   **Hedonistic View:** The meaning of life is to maximize pleasure and minimize pain. The goal is to experience as much joy, happiness, and positive sensation as possible.\n",
      "*   **Stoic View:** The purpose of life is to live virtuously and in accordance with nature and reason. It's about focusing on what you can control and accepting what you cannot, finding peace and resilience in the face of hardship.\n",
      "*   **Nihilistic View:** This is the belief that life has no objective meaning, purpose, or intrinsic value. While this can sound depressing, some find it liberating—if nothing matters, you are completely free.\n",
      "\n",
      "### 3. The Personal Answer\n",
      "\n",
      "Perhaps the most powerful answer is that **life is what you make it.**\n",
      "\n",
      "For many people, the \"meaning of life\" isn't one big thing, but a collection of small, important things:\n",
      "\n",
      "*   The love you share with family and friends.\n",
      "*   The joy of learning something new.\n",
      "*   The satisfaction of creating something (art, a garden, a meal).\n",
      "*   The experience of beauty in nature or music.\n",
      "*   The act of helping someone in need.\n",
      "*   The challenge of overcoming an obstacle.\n",
      "\n",
      "In the end, there is no universal instruction manual. The question \"What is life?\" is not one you find an answer to, but one you answer by living.\n",
      "\n",
      "What does life mean to *you*?\n",
      "[HumanMessage(content='hi', additional_kwargs={}, response_metadata={}), AIMessage(content='Hello! How can I help you today?', additional_kwargs={}, response_metadata={}), HumanMessage(content='what is life', additional_kwargs={}, response_metadata={}), AIMessage(content='That is one of the most profound questions a person can ask. There\\'s no single answer, as it\\'s been debated by philosophers, scientists, spiritual leaders, and everyday people for thousands of years.\\n\\nWe can look at the question in a few different ways:\\n\\n### 1. The Scientific / Biological Answer\\n\\nFrom a biological perspective, life is a characteristic that distinguishes physical entities that have biological processes (like signaling and self-sustaining processes) from those that do not. An organism is considered \"alive\" if it has most of these traits:\\n\\n*   **Organization:** Made of one or more cells.\\n*   **Metabolism:** Uses energy to maintain itself.\\n*   **Homeostasis:** Maintains a stable internal environment.\\n*   **Growth:** Increases in size over time.\\n*   **Reproduction:** Can create new organisms.\\n*   **Response to Stimuli:** Reacts to changes in its environment.\\n*   **Evolution:** The ability of a population to change over generations.\\n\\nIn this sense, \"life\" is a complex chemical process, a way for matter to organize itself to survive and replicate.\\n\\n### 2. The Philosophical / Meaning-Based Answer\\n\\nThis is usually what people mean when they ask, \"What is life?\" They\\'re asking about its **purpose** or **meaning**. Here are some of the most common perspectives:\\n\\n*   **Religious/Spiritual View:** Life is a gift from a divine being. Its purpose is to serve that being, follow a set of moral codes, and achieve a state of grace, enlightenment, or a good afterlife (e.g., Heaven, Nirvana).\\n*   **Humanistic View:** Life has no pre-ordained meaning. Its purpose is what we give it. This often involves seeking happiness, creating positive relationships, contributing to the well-being of humanity, and leaving the world a better place.\\n*   **Existentialist View:** This view starts with the idea that \"existence precedes essence.\" This means you are born without a set purpose, into a seemingly meaningless universe. The challenge and beauty of life is to *create your own meaning and purpose* through your choices and actions.\\n*   **Hedonistic View:** The meaning of life is to maximize pleasure and minimize pain. The goal is to experience as much joy, happiness, and positive sensation as possible.\\n*   **Stoic View:** The purpose of life is to live virtuously and in accordance with nature and reason. It\\'s about focusing on what you can control and accepting what you cannot, finding peace and resilience in the face of hardship.\\n*   **Nihilistic View:** This is the belief that life has no objective meaning, purpose, or intrinsic value. While this can sound depressing, some find it liberating—if nothing matters, you are completely free.\\n\\n### 3. The Personal Answer\\n\\nPerhaps the most powerful answer is that **life is what you make it.**\\n\\nFor many people, the \"meaning of life\" isn\\'t one big thing, but a collection of small, important things:\\n\\n*   The love you share with family and friends.\\n*   The joy of learning something new.\\n*   The satisfaction of creating something (art, a garden, a meal).\\n*   The experience of beauty in nature or music.\\n*   The act of helping someone in need.\\n*   The challenge of overcoming an obstacle.\\n\\nIn the end, there is no universal instruction manual. The question \"What is life?\" is not one you find an answer to, but one you answer by living.\\n\\nWhat does life mean to *you*?', additional_kwargs={}, response_metadata={})]\n",
      "AI :  Of course. Approaching the question \"What is life?\" from an academic perspective requires breaking it down into the distinct inquiries pursued by different disciplines. There isn't one unified academic answer, but rather a multi-faceted investigation.\n",
      "\n",
      "Here is a breakdown of how various academic fields define and study life.\n",
      "\n",
      "### 1. The Biological Perspective (The Foundational Definition)\n",
      "\n",
      "Biology is the science of life itself, and it provides the most common working definition. From this viewpoint, life is not a substance or force, but a complex **process** or **property** of matter. An entity is generally considered \"alive\" if it exhibits most or all of the following characteristics:\n",
      "\n",
      "*   **Organization:** Composed of one or more cells, which are the basic units of life.\n",
      "*   **Metabolism:** The ability to take in energy and materials from the environment and convert them into different forms to sustain itself (e.g., photosynthesis, cellular respiration).\n",
      "*   **Homeostasis:** The ability to maintain a stable internal environment despite external changes (e.g., regulating temperature or pH).\n",
      "*   **Growth:** The ability to increase in size or complexity.\n",
      "*   **Reproduction:** The ability to produce new individuals, either sexually or asexually, passing on genetic information.\n",
      "*   **Response to Stimuli:** The ability to react to changes in the environment.\n",
      "*   **Evolution:** The capacity for a population to change over generations through natural selection to adapt to its environment.\n",
      "\n",
      "**Key Issue:** This definition has fuzzy boundaries. **Viruses**, for example, can reproduce and evolve but lack their own metabolism and cellular structure, leading to debate about whether they are truly \"alive.\"\n",
      "\n",
      "### 2. The Chemical and Biochemical Perspective (The Molecular Basis)\n",
      "\n",
      "This field asks: What is the chemical foundation that allows for life?\n",
      "\n",
      "*   **Carbon-Based Polymers:** Life on Earth is fundamentally based on the chemistry of carbon, which can form complex, stable molecules. The key macromolecules are nucleic acids (DNA, RNA) for information storage and proteins for catalytic and structural functions.\n",
      "*   **Autocatalysis and Self-Replication:** At its core, life is a set of chemical reactions that can sustain and replicate itself. The study of **abiogenesis** (the origin of life from non-living matter) explores how self-replicating molecules like RNA could have formed (the \"RNA World\" hypothesis).\n",
      "*   **Metabolic Pathways:** Life is viewed as an intricate network of chemical reactions (metabolism) that capture and channel energy to maintain the system's structure and function.\n",
      "\n",
      "### 3. The Physics Perspective (The Thermodynamic and Information-Theoretic View)\n",
      "\n",
      "Physics offers a more abstract and universal perspective, asking how life fits into the fundamental laws of the universe.\n",
      "\n",
      "*   **A System Far from Thermodynamic Equilibrium:** The Second Law of Thermodynamics states that entropy (disorder) in an isolated system tends to increase. Life seems to defy this by being highly ordered. Physicist **Erwin Schrödinger**, in his 1944 book *What is Life?*, proposed that living organisms are open systems that maintain their low entropy by \"feeding on negative entropy\" from their environment—that is, by taking in energy and matter (like food or sunlight) and expelling waste and heat.\n",
      "*   **An Information Processing System:** From this viewpoint, life is defined by its ability to store, process, and transmit information. The genetic code in DNA is the primary information store. Evolution is the process by which this information is updated and refined over time. A living organism is a physical instantiation of this information.\n",
      "\n",
      "### 4. The Philosophical Perspective (The Definitional and Normative Inquiry)\n",
      "\n",
      "Philosophy tackles the conceptual and ethical dimensions of the question.\n",
      "\n",
      "*   **Metaphysics:** This branch asks about the fundamental nature of life. It contrasts **vitalism** (the belief in a non-physical \"life force\" or élan vital) with **mechanism/materialism** (the view that life is purely the result of complex physical and chemical processes). The latter is the dominant view in modern science.\n",
      "*   **Epistemology:** How can we *know* something is alive? What are the necessary and sufficient conditions for life? This inquiry scrutinizes the biological definition and its borderline cases.\n",
      "*   **Ethics and Value Theory:** This branch doesn't define what life *is*, but asks about its **value**. Why is life considered intrinsically valuable? This question is central to bioethics, environmental ethics, and debates about animal rights, abortion, and euthanasia.\n",
      "\n",
      "### 5. The Astrobiological and Artificial Life Perspective (The Universal Definition)\n",
      "\n",
      "These fields attempt to create a definition of life that is not specific to Earth.\n",
      "\n",
      "*   **Astrobiology:** In searching for extraterrestrial life, scientists need a broader definition. The working definition often used by NASA is: **\"A self-sustaining chemical system capable of Darwinian evolution.\"** This definition is powerful because it strips life down to its most essential components: it must be a self-contained system (metabolism), and it must be able to adapt and become more complex over time (evolution). It doesn't specify a need for DNA, carbon, or water.\n",
      "*   **Artificial Life (A-Life):** This field in computer science and robotics studies life by attempting to recreate life-like behaviors in artificial systems (e.g., computer simulations, robots). It treats life as a property of organization, not of a specific material. Life is defined by what it *does* (its behavior, its logic), not what it's *made of*.\n",
      "\n",
      "### Summary from an Academic Standpoint\n",
      "\n",
      "Academically, \"life\" is not a single, settled concept. It is best understood as a complex phenomenon characterized by a cluster of properties. The two primary academic questions are:\n",
      "\n",
      "1.  **The Descriptive Question:** \"What are the physical, chemical, and informational properties that distinguish living systems from non-living ones?\" (This is the domain of the natural sciences).\n",
      "2.  **The Normative Question:** \"What is the meaning, purpose, and value of life?\" (This is the domain of philosophy, the humanities, and social sciences).\n",
      "\n",
      "The scientific consensus is that life is an emergent property of complex chemical matter that allows for metabolism, self-replication, and evolution. The philosophical and humanistic inquiries remain open, exploring the significance and experience of this remarkable phenomenon.\n",
      "[HumanMessage(content='hi', additional_kwargs={}, response_metadata={}), AIMessage(content='Hello! How can I help you today?', additional_kwargs={}, response_metadata={}), HumanMessage(content='what is life', additional_kwargs={}, response_metadata={}), AIMessage(content='That is one of the most profound questions a person can ask. There\\'s no single answer, as it\\'s been debated by philosophers, scientists, spiritual leaders, and everyday people for thousands of years.\\n\\nWe can look at the question in a few different ways:\\n\\n### 1. The Scientific / Biological Answer\\n\\nFrom a biological perspective, life is a characteristic that distinguishes physical entities that have biological processes (like signaling and self-sustaining processes) from those that do not. An organism is considered \"alive\" if it has most of these traits:\\n\\n*   **Organization:** Made of one or more cells.\\n*   **Metabolism:** Uses energy to maintain itself.\\n*   **Homeostasis:** Maintains a stable internal environment.\\n*   **Growth:** Increases in size over time.\\n*   **Reproduction:** Can create new organisms.\\n*   **Response to Stimuli:** Reacts to changes in its environment.\\n*   **Evolution:** The ability of a population to change over generations.\\n\\nIn this sense, \"life\" is a complex chemical process, a way for matter to organize itself to survive and replicate.\\n\\n### 2. The Philosophical / Meaning-Based Answer\\n\\nThis is usually what people mean when they ask, \"What is life?\" They\\'re asking about its **purpose** or **meaning**. Here are some of the most common perspectives:\\n\\n*   **Religious/Spiritual View:** Life is a gift from a divine being. Its purpose is to serve that being, follow a set of moral codes, and achieve a state of grace, enlightenment, or a good afterlife (e.g., Heaven, Nirvana).\\n*   **Humanistic View:** Life has no pre-ordained meaning. Its purpose is what we give it. This often involves seeking happiness, creating positive relationships, contributing to the well-being of humanity, and leaving the world a better place.\\n*   **Existentialist View:** This view starts with the idea that \"existence precedes essence.\" This means you are born without a set purpose, into a seemingly meaningless universe. The challenge and beauty of life is to *create your own meaning and purpose* through your choices and actions.\\n*   **Hedonistic View:** The meaning of life is to maximize pleasure and minimize pain. The goal is to experience as much joy, happiness, and positive sensation as possible.\\n*   **Stoic View:** The purpose of life is to live virtuously and in accordance with nature and reason. It\\'s about focusing on what you can control and accepting what you cannot, finding peace and resilience in the face of hardship.\\n*   **Nihilistic View:** This is the belief that life has no objective meaning, purpose, or intrinsic value. While this can sound depressing, some find it liberating—if nothing matters, you are completely free.\\n\\n### 3. The Personal Answer\\n\\nPerhaps the most powerful answer is that **life is what you make it.**\\n\\nFor many people, the \"meaning of life\" isn\\'t one big thing, but a collection of small, important things:\\n\\n*   The love you share with family and friends.\\n*   The joy of learning something new.\\n*   The satisfaction of creating something (art, a garden, a meal).\\n*   The experience of beauty in nature or music.\\n*   The act of helping someone in need.\\n*   The challenge of overcoming an obstacle.\\n\\nIn the end, there is no universal instruction manual. The question \"What is life?\" is not one you find an answer to, but one you answer by living.\\n\\nWhat does life mean to *you*?', additional_kwargs={}, response_metadata={}), HumanMessage(content='from a acadamic perspective', additional_kwargs={}, response_metadata={}), AIMessage(content='Of course. Approaching the question \"What is life?\" from an academic perspective requires breaking it down into the distinct inquiries pursued by different disciplines. There isn\\'t one unified academic answer, but rather a multi-faceted investigation.\\n\\nHere is a breakdown of how various academic fields define and study life.\\n\\n### 1. The Biological Perspective (The Foundational Definition)\\n\\nBiology is the science of life itself, and it provides the most common working definition. From this viewpoint, life is not a substance or force, but a complex **process** or **property** of matter. An entity is generally considered \"alive\" if it exhibits most or all of the following characteristics:\\n\\n*   **Organization:** Composed of one or more cells, which are the basic units of life.\\n*   **Metabolism:** The ability to take in energy and materials from the environment and convert them into different forms to sustain itself (e.g., photosynthesis, cellular respiration).\\n*   **Homeostasis:** The ability to maintain a stable internal environment despite external changes (e.g., regulating temperature or pH).\\n*   **Growth:** The ability to increase in size or complexity.\\n*   **Reproduction:** The ability to produce new individuals, either sexually or asexually, passing on genetic information.\\n*   **Response to Stimuli:** The ability to react to changes in the environment.\\n*   **Evolution:** The capacity for a population to change over generations through natural selection to adapt to its environment.\\n\\n**Key Issue:** This definition has fuzzy boundaries. **Viruses**, for example, can reproduce and evolve but lack their own metabolism and cellular structure, leading to debate about whether they are truly \"alive.\"\\n\\n### 2. The Chemical and Biochemical Perspective (The Molecular Basis)\\n\\nThis field asks: What is the chemical foundation that allows for life?\\n\\n*   **Carbon-Based Polymers:** Life on Earth is fundamentally based on the chemistry of carbon, which can form complex, stable molecules. The key macromolecules are nucleic acids (DNA, RNA) for information storage and proteins for catalytic and structural functions.\\n*   **Autocatalysis and Self-Replication:** At its core, life is a set of chemical reactions that can sustain and replicate itself. The study of **abiogenesis** (the origin of life from non-living matter) explores how self-replicating molecules like RNA could have formed (the \"RNA World\" hypothesis).\\n*   **Metabolic Pathways:** Life is viewed as an intricate network of chemical reactions (metabolism) that capture and channel energy to maintain the system\\'s structure and function.\\n\\n### 3. The Physics Perspective (The Thermodynamic and Information-Theoretic View)\\n\\nPhysics offers a more abstract and universal perspective, asking how life fits into the fundamental laws of the universe.\\n\\n*   **A System Far from Thermodynamic Equilibrium:** The Second Law of Thermodynamics states that entropy (disorder) in an isolated system tends to increase. Life seems to defy this by being highly ordered. Physicist **Erwin Schrödinger**, in his 1944 book *What is Life?*, proposed that living organisms are open systems that maintain their low entropy by \"feeding on negative entropy\" from their environment—that is, by taking in energy and matter (like food or sunlight) and expelling waste and heat.\\n*   **An Information Processing System:** From this viewpoint, life is defined by its ability to store, process, and transmit information. The genetic code in DNA is the primary information store. Evolution is the process by which this information is updated and refined over time. A living organism is a physical instantiation of this information.\\n\\n### 4. The Philosophical Perspective (The Definitional and Normative Inquiry)\\n\\nPhilosophy tackles the conceptual and ethical dimensions of the question.\\n\\n*   **Metaphysics:** This branch asks about the fundamental nature of life. It contrasts **vitalism** (the belief in a non-physical \"life force\" or élan vital) with **mechanism/materialism** (the view that life is purely the result of complex physical and chemical processes). The latter is the dominant view in modern science.\\n*   **Epistemology:** How can we *know* something is alive? What are the necessary and sufficient conditions for life? This inquiry scrutinizes the biological definition and its borderline cases.\\n*   **Ethics and Value Theory:** This branch doesn\\'t define what life *is*, but asks about its **value**. Why is life considered intrinsically valuable? This question is central to bioethics, environmental ethics, and debates about animal rights, abortion, and euthanasia.\\n\\n### 5. The Astrobiological and Artificial Life Perspective (The Universal Definition)\\n\\nThese fields attempt to create a definition of life that is not specific to Earth.\\n\\n*   **Astrobiology:** In searching for extraterrestrial life, scientists need a broader definition. The working definition often used by NASA is: **\"A self-sustaining chemical system capable of Darwinian evolution.\"** This definition is powerful because it strips life down to its most essential components: it must be a self-contained system (metabolism), and it must be able to adapt and become more complex over time (evolution). It doesn\\'t specify a need for DNA, carbon, or water.\\n*   **Artificial Life (A-Life):** This field in computer science and robotics studies life by attempting to recreate life-like behaviors in artificial systems (e.g., computer simulations, robots). It treats life as a property of organization, not of a specific material. Life is defined by what it *does* (its behavior, its logic), not what it\\'s *made of*.\\n\\n### Summary from an Academic Standpoint\\n\\nAcademically, \"life\" is not a single, settled concept. It is best understood as a complex phenomenon characterized by a cluster of properties. The two primary academic questions are:\\n\\n1.  **The Descriptive Question:** \"What are the physical, chemical, and informational properties that distinguish living systems from non-living ones?\" (This is the domain of the natural sciences).\\n2.  **The Normative Question:** \"What is the meaning, purpose, and value of life?\" (This is the domain of philosophy, the humanities, and social sciences).\\n\\nThe scientific consensus is that life is an emergent property of complex chemical matter that allows for metabolism, self-replication, and evolution. The philosophical and humanistic inquiries remain open, exploring the significance and experience of this remarkable phenomenon.', additional_kwargs={}, response_metadata={})]\n"
     ]
    }
   ],
   "source": [
    "conversation_history = []\n",
    "user_input = input(\"Enter: \")\n",
    "while user_input != \"exit\":\n",
    "    conversation_history.append(HumanMessage(content=user_input))\n",
    "    result=agent.invoke({\"messages\": conversation_history})\n",
    "    print(result[\"messages\"])\n",
    "    conversation_history = result[\"messages\"]\n",
    "    user_input = input(\"Enter: \")"
   ]
  },
  {
   "cell_type": "code",
   "execution_count": null,
   "id": "1ba814f4",
   "metadata": {},
   "outputs": [],
   "source": []
  }
 ],
 "metadata": {
  "kernelspec": {
   "display_name": "playwright_ (3.11.9)",
   "language": "python",
   "name": "python3"
  },
  "language_info": {
   "codemirror_mode": {
    "name": "ipython",
    "version": 3
   },
   "file_extension": ".py",
   "mimetype": "text/x-python",
   "name": "python",
   "nbconvert_exporter": "python",
   "pygments_lexer": "ipython3",
   "version": "3.11.9"
  }
 },
 "nbformat": 4,
 "nbformat_minor": 5
}
