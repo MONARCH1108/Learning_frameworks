{
 "cells": [
  {
   "cell_type": "markdown",
   "id": "5b5f7cd2",
   "metadata": {},
   "source": [
    "## Basic_Graph"
   ]
  },
  {
   "cell_type": "code",
   "execution_count": 2,
   "id": "c9030b66",
   "metadata": {},
   "outputs": [],
   "source": [
    "from typing import Dict, TypedDict\n",
    "from langgraph.graph import StateGraph"
   ]
  },
  {
   "cell_type": "code",
   "execution_count": 4,
   "id": "f271c530",
   "metadata": {},
   "outputs": [],
   "source": [
    "class AgentState(TypedDict):\n",
    "    message : str\n",
    "\n",
    "def node_a(state: AgentState) -> AgentState:\n",
    "    state['message'] = \"hey \"+state[\"message\"]\n",
    "    return state"
   ]
  },
  {
   "cell_type": "code",
   "execution_count": null,
   "id": "9c97bb65",
   "metadata": {},
   "outputs": [],
   "source": [
    "graph = StateGraph(AgentState)\n",
    "graph.add_node(\"Name_a\", node_a)\n",
    "graph.set_entry_point(\"Name_a\")\n",
    "graph.set_finish_point(\"Name_a\")\n",
    "app = graph.compile()"
   ]
  },
  {
   "cell_type": "code",
   "execution_count": 8,
   "id": "57ae0749",
   "metadata": {},
   "outputs": [
    {
     "data": {
      "image/png": "[encoded data removed]",
      "text/plain": [
       "<IPython.core.display.Image object>"
      ]
     },
     "metadata": {},
     "output_type": "display_data"
    }
   ],
   "source": [
    "from IPython.display import Image, display\n",
    "display(Image(app.get_graph().draw_mermaid_png()))"
   ]
  },
  {
   "cell_type": "code",
   "execution_count": 14,
   "id": "5e7f85a0",
   "metadata": {},
   "outputs": [
    {
     "data": {
      "text/plain": [
       "{'message': 'hey abhay'}"
      ]
     },
     "execution_count": 14,
     "metadata": {},
     "output_type": "execute_result"
    }
   ],
   "source": [
    "result = app.invoke({\"message\":\"abhay\"})\n",
    "result[\"message\"]\n",
    "result"
   ]
  },
  {
   "cell_type": "markdown",
   "id": "b693a7a6",
   "metadata": {},
   "source": [
    "## Learning_1"
   ]
  },
  {
   "cell_type": "code",
   "execution_count": 16,
   "id": "e1488411",
   "metadata": {},
   "outputs": [],
   "source": [
    "from typing import TypedDict, Dict\n",
    "from langgraph.graph import StateGraph"
   ]
  },
  {
   "cell_type": "code",
   "execution_count": 17,
   "id": "0419015e",
   "metadata": {},
   "outputs": [],
   "source": [
    "class AgentState(TypedDict):\n",
    "    message : str\n",
    "\n",
    "def node_a(state: AgentState) -> AgentState:\n",
    "    state[\"message\"] = state[\"message\"] + \" , doing an amzing Job, Man\"\n",
    "    return state"
   ]
  },
  {
   "cell_type": "code",
   "execution_count": 18,
   "id": "1d8b24e0",
   "metadata": {},
   "outputs": [],
   "source": [
    "graph = StateGraph(AgentState)\n",
    "graph.add_node(\"hello\", node_a)\n",
    "graph.set_entry_point(\"hello\")\n",
    "graph.set_finish_point(\"hello\")\n",
    "app = graph.compile()"
   ]
  },
  {
   "cell_type": "code",
   "execution_count": 19,
   "id": "bfebb50b",
   "metadata": {},
   "outputs": [
    {
     "data": {
      "image/png": "[encoded data removed]",
      "text/plain": [
       "<IPython.core.display.Image object>"
      ]
     },
     "metadata": {},
     "output_type": "display_data"
    }
   ],
   "source": [
    "from IPython.display import Image, display\n",
    "display(Image(app.get_graph().draw_mermaid_png()))"
   ]
  },
  {
   "cell_type": "code",
   "execution_count": 22,
   "id": "e4269151",
   "metadata": {},
   "outputs": [
    {
     "data": {
      "text/plain": [
       "('Hello Abhay , doing an amzing Job, Man',\n",
       " {'message': 'Hello Abhay , doing an amzing Job, Man'})"
      ]
     },
     "execution_count": 22,
     "metadata": {},
     "output_type": "execute_result"
    }
   ],
   "source": [
    "result = app.invoke({\"message\":\"Hello Abhay\"})\n",
    "result[\"message\"], result"
   ]
  },
  {
   "cell_type": "markdown",
   "id": "cdaa902b",
   "metadata": {},
   "source": [
    "## Graph 2"
   ]
  },
  {
   "cell_type": "code",
   "execution_count": 36,
   "id": "0083e11a",
   "metadata": {},
   "outputs": [],
   "source": [
    "from typing import TypedDict, List\n",
    "from langgraph.graph import StateGraph"
   ]
  },
  {
   "cell_type": "code",
   "execution_count": 37,
   "id": "67dd0429",
   "metadata": {},
   "outputs": [],
   "source": [
    "class AgentState(TypedDict):\n",
    "    values : List[int]\n",
    "    name : str\n",
    "    result : str"
   ]
  },
  {
   "cell_type": "code",
   "execution_count": 42,
   "id": "6b7eb75f",
   "metadata": {},
   "outputs": [],
   "source": [
    "def process_values(state: AgentState) -> AgentState:\n",
    "    state['result'] = f\"hello There {state['name']}, Your Sum = {sum(state['values'])}\"\n",
    "    return state"
   ]
  },
  {
   "cell_type": "code",
   "execution_count": 43,
   "id": "0bc10be3",
   "metadata": {},
   "outputs": [],
   "source": [
    "graph = StateGraph(AgentState)\n",
    "graph.add_node(\"Processor\", process_values)\n",
    "graph.set_entry_point(\"Processor\")\n",
    "graph.set_finish_point(\"Processor\")\n",
    "app = graph.compile()"
   ]
  },
  {
   "cell_type": "code",
   "execution_count": 44,
   "id": "860ab8f7",
   "metadata": {},
   "outputs": [
    {
     "data": {
      "image/png": "[encoded data removed]",
      "text/plain": [
       "<langgraph.graph.state.CompiledStateGraph object at 0x000001916F3F53D0>"
      ]
     },
     "execution_count": 44,
     "metadata": {},
     "output_type": "execute_result"
    }
   ],
   "source": [
    "app"
   ]
  },
  {
   "cell_type": "code",
   "execution_count": 45,
   "id": "cfe54e14",
   "metadata": {},
   "outputs": [],
   "source": [
    "result = app.invoke({\"values\": [1, 2, 3, 4], \"name\":\"abhay\"})"
   ]
  },
  {
   "cell_type": "code",
   "execution_count": 48,
   "id": "e9932f35",
   "metadata": {},
   "outputs": [
    {
     "data": {
      "text/plain": [
       "'abhay'"
      ]
     },
     "execution_count": 48,
     "metadata": {},
     "output_type": "execute_result"
    }
   ],
   "source": [
    "result[\"name\"]"
   ]
  },
  {
   "cell_type": "code",
   "execution_count": 49,
   "id": "c0eb9534",
   "metadata": {},
   "outputs": [
    {
     "data": {
      "text/plain": [
       "'hello There abhay, Your Sum = 10'"
      ]
     },
     "execution_count": 49,
     "metadata": {},
     "output_type": "execute_result"
    }
   ],
   "source": [
    "result[\"result\"]"
   ]
  },
  {
   "cell_type": "code",
   "execution_count": 50,
   "id": "3d719fcf",
   "metadata": {},
   "outputs": [
    {
     "data": {
      "text/plain": [
       "[1, 2, 3, 4]"
      ]
     },
     "execution_count": 50,
     "metadata": {},
     "output_type": "execute_result"
    }
   ],
   "source": [
    "result[\"values\"]"
   ]
  },
  {
   "cell_type": "code",
   "execution_count": 51,
   "id": "64c27fe1",
   "metadata": {},
   "outputs": [
    {
     "data": {
      "text/plain": [
       "{'values': [1, 2, 3, 4],\n",
       " 'name': 'abhay',\n",
       " 'result': 'hello There abhay, Your Sum = 10'}"
      ]
     },
     "execution_count": 51,
     "metadata": {},
     "output_type": "execute_result"
    }
   ],
   "source": [
    "result"
   ]
  },
  {
   "cell_type": "markdown",
   "id": "eae265a6",
   "metadata": {},
   "source": [
    "## Learning_2"
   ]
  },
  {
   "cell_type": "code",
   "execution_count": 58,
   "id": "21cd2662",
   "metadata": {},
   "outputs": [],
   "source": [
    "from typing import TypedDict, List\n",
    "from langgraph.graph import StateGraph\n",
    "from functools import reduce\n",
    "import operator"
   ]
  },
  {
   "cell_type": "code",
   "execution_count": 59,
   "id": "aa4dfb51",
   "metadata": {},
   "outputs": [],
   "source": [
    "class AgentState(TypedDict):\n",
    "    name: str\n",
    "    values: List[int]\n",
    "    operation: str\n",
    "    result: str"
   ]
  },
  {
   "cell_type": "code",
   "execution_count": 60,
   "id": "2618c95d",
   "metadata": {},
   "outputs": [],
   "source": [
    "def process_node(state: AgentState) -> AgentState:\n",
    "    if state['operation'] == '+':\n",
    "        total = sum(state['values'])\n",
    "    elif state['operation'] == '*':\n",
    "        total = reduce(operator.mul, state['values'], 1)\n",
    "    else:\n",
    "        total = 0  # default if unknown operation\n",
    "    state['result'] = f\"Hi {state['name']}, your answer is: {total}\"\n",
    "    return state"
   ]
  },
  {
   "cell_type": "code",
   "execution_count": 61,
   "id": "25f5ed13",
   "metadata": {},
   "outputs": [],
   "source": [
    "graph = StateGraph(AgentState)\n",
    "graph.add_node(\"Compute\", process_node)\n",
    "graph.set_entry_point(\"Compute\")\n",
    "graph.set_finish_point(\"Compute\")\n",
    "app = graph.compile()"
   ]
  },
  {
   "cell_type": "code",
   "execution_count": 62,
   "id": "9a81de6c",
   "metadata": {},
   "outputs": [
    {
     "data": {
      "image/png": "[encoded data removed]",
      "text/plain": [
       "<langgraph.graph.state.CompiledStateGraph object at 0x000001916F1F84D0>"
      ]
     },
     "execution_count": 62,
     "metadata": {},
     "output_type": "execute_result"
    }
   ],
   "source": [
    "app"
   ]
  },
  {
   "cell_type": "code",
   "execution_count": 63,
   "id": "07825c9d",
   "metadata": {},
   "outputs": [
    {
     "name": "stdout",
     "output_type": "stream",
     "text": [
      "Hi Jack Sparrow, your answer is: 24\n"
     ]
    }
   ],
   "source": [
    "input_data = {\"name\": \"Jack Sparrow\", \"values\": [1, 2, 3, 4], \"operation\": \"*\"}\n",
    "result = app.invoke(input_data)\n",
    "print(result['result'])"
   ]
  },
  {
   "cell_type": "markdown",
   "id": "d000ac67",
   "metadata": {},
   "source": [
    "## Graph-3"
   ]
  },
  {
   "cell_type": "code",
   "execution_count": 64,
   "id": "169f031c",
   "metadata": {},
   "outputs": [],
   "source": [
    "from typing import TypedDict\n",
    "from langgraph.graph import StateGraph"
   ]
  },
  {
   "cell_type": "code",
   "execution_count": 65,
   "id": "13ea19ef",
   "metadata": {},
   "outputs": [],
   "source": [
    "class AgentState(TypedDict):\n",
    "    name : str\n",
    "    age : str\n",
    "    final : str"
   ]
  },
  {
   "cell_type": "code",
   "execution_count": 72,
   "id": "ec77b6ba",
   "metadata": {},
   "outputs": [],
   "source": [
    "def first_node(state: AgentState) -> AgentState:\n",
    "    state['final'] = f\"hello, {state['name']}\"\n",
    "    return state\n",
    "\n",
    "def second_node(state: AgentState) -> AgentState:\n",
    "    state['final'] = state['final'] + f\" you are {state['age']} years old!!\"\n",
    "    return state"
   ]
  },
  {
   "cell_type": "code",
   "execution_count": 73,
   "id": "243058d2",
   "metadata": {},
   "outputs": [],
   "source": [
    "graph = StateGraph(AgentState)\n",
    "graph.add_node(\"node_a\", first_node)\n",
    "graph.add_node(\"node_b\", second_node)\n",
    "graph.set_entry_point(\"node_a\")\n",
    "graph.add_edge(\"node_a\", \"node_b\")\n",
    "graph.set_finish_point(\"node_b\")\n",
    "app = graph.compile()"
   ]
  },
  {
   "cell_type": "code",
   "execution_count": 74,
   "id": "6dc1b1b6",
   "metadata": {},
   "outputs": [
    {
     "data": {
      "image/png": "[encoded data removed]",
      "text/plain": [
       "<langgraph.graph.state.CompiledStateGraph object at 0x000001916FDBE650>"
      ]
     },
     "execution_count": 74,
     "metadata": {},
     "output_type": "execute_result"
    }
   ],
   "source": [
    "app"
   ]
  },
  {
   "cell_type": "code",
   "execution_count": 76,
   "id": "a5a29a99",
   "metadata": {},
   "outputs": [
    {
     "data": {
      "text/plain": [
       "'hello, abhay you are 23 years old!!'"
      ]
     },
     "execution_count": 76,
     "metadata": {},
     "output_type": "execute_result"
    }
   ],
   "source": [
    "result = app.invoke({'name':'abhay', 'age':23})\n",
    "result['final']"
   ]
  },
  {
   "cell_type": "markdown",
   "id": "c9081eb6",
   "metadata": {},
   "source": [
    "## Learn_3"
   ]
  },
  {
   "cell_type": "code",
   "execution_count": 82,
   "id": "14a32217",
   "metadata": {},
   "outputs": [],
   "source": [
    "from typing import TypedDict, List\n",
    "from langgraph.graph import StateGraph\n",
    "class AgentState(TypedDict):\n",
    "    name : str\n",
    "    age : str\n",
    "    skills : List[str]\n",
    "    final : str"
   ]
  },
  {
   "cell_type": "code",
   "execution_count": 83,
   "id": "a96ee015",
   "metadata": {},
   "outputs": [],
   "source": [
    "def first_node(state: AgentState) -> AgentState:\n",
    "    state['final'] = f\"hello, {state['name']}\"\n",
    "    return state\n",
    "\n",
    "def second_node(state: AgentState) -> AgentState:\n",
    "    state['final'] = state['final'] + f\" you are {state['age']} years old!!\"\n",
    "    return state\n",
    "\n",
    "def third_node(state: AgentState) -> AgentState:\n",
    "    state['final'] = state['final'] + f\" you Skills {state['skills']}\"\n",
    "    return state"
   ]
  },
  {
   "cell_type": "code",
   "execution_count": 84,
   "id": "b401f681",
   "metadata": {},
   "outputs": [],
   "source": [
    "graph = StateGraph(AgentState)\n",
    "graph.add_node(\"node_a\", first_node)\n",
    "graph.add_node(\"node_b\", second_node)\n",
    "graph.add_node(\"node_c\", third_node)\n",
    "graph.set_entry_point(\"node_a\")\n",
    "graph.add_edge(\"node_a\", \"node_b\")\n",
    "graph.add_edge(\"node_b\", \"node_c\")\n",
    "graph.set_finish_point(\"node_c\")\n",
    "app = graph.compile()"
   ]
  },
  {
   "cell_type": "code",
   "execution_count": 85,
   "id": "c7012ebd",
   "metadata": {},
   "outputs": [
    {
     "data": {
      "image/png": "[encoded data removed]",
      "text/plain": [
       "<langgraph.graph.state.CompiledStateGraph object at 0x000001916F19DCD0>"
      ]
     },
     "execution_count": 85,
     "metadata": {},
     "output_type": "execute_result"
    }
   ],
   "source": [
    "app"
   ]
  },
  {
   "cell_type": "code",
   "execution_count": 86,
   "id": "a923b7d6",
   "metadata": {},
   "outputs": [],
   "source": [
    "result = app.invoke({\"age\":20, \"name\":\"abhay\", \"skills\":['python', 'SQL', 'JS']})"
   ]
  },
  {
   "cell_type": "code",
   "execution_count": 87,
   "id": "dd938d7d",
   "metadata": {},
   "outputs": [
    {
     "data": {
      "text/plain": [
       "{'name': 'abhay',\n",
       " 'age': 20,\n",
       " 'skills': ['python', 'SQL', 'JS'],\n",
       " 'final': \"hello, abhay you are 20 years old!! you Skills ['python', 'SQL', 'JS']\"}"
      ]
     },
     "execution_count": 87,
     "metadata": {},
     "output_type": "execute_result"
    }
   ],
   "source": [
    "result"
   ]
  },
  {
   "cell_type": "markdown",
   "id": "d9fff4e8",
   "metadata": {},
   "source": [
    "## Graph-4"
   ]
  },
  {
   "cell_type": "code",
   "execution_count": 1,
   "id": "fdafd845",
   "metadata": {},
   "outputs": [],
   "source": [
    "from typing import TypedDict\n",
    "from langgraph.graph import StateGraph, START, END"
   ]
  },
  {
   "cell_type": "code",
   "execution_count": null,
   "id": "4f0b9a84",
   "metadata": {},
   "outputs": [],
   "source": []
  }
 ],
 "metadata": {
  "kernelspec": {
   "display_name": "playwright_ (3.11.9)",
   "language": "python",
   "name": "python3"
  },
  "language_info": {
   "codemirror_mode": {
    "name": "ipython",
    "version": 3
   },
   "file_extension": ".py",
   "mimetype": "text/x-python",
   "name": "python",
   "nbconvert_exporter": "python",
   "pygments_lexer": "ipython3",
   "version": "3.11.9"
  }
 },
 "nbformat": 4,
 "nbformat_minor": 5
}
