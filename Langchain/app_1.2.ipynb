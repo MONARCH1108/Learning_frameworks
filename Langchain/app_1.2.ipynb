{
 "cells": [
  {
   "cell_type": "code",
   "execution_count": 1,
   "id": "000c0a36",
   "metadata": {},
   "outputs": [
    {
     "name": "stderr",
     "output_type": "stream",
     "text": [
      "USER_AGENT environment variable not set, consider setting it to identify your requests.\n"
     ]
    }
   ],
   "source": [
    "from langchain_community.document_loaders import WebBaseLoader\n",
    "import bs4\n",
    "\n",
    "response = WebBaseLoader(\n",
    "    web_path=\"https://en.wikipedia.org/wiki/Samantha_Ruth_Prabhu\",\n",
    "    bs_kwargs=dict(parse_only=bs4.SoupStrainer(\"p\"))\n",
    ")\n",
    "\n",
    "extracted_text = response.load()"
   ]
  },
  {
   "cell_type": "code",
   "execution_count": 2,
   "id": "7e374e6e",
   "metadata": {},
   "outputs": [],
   "source": [
    "from langchain.text_splitter import RecursiveCharacterTextSplitter\n",
    "\n",
    "splitter = RecursiveCharacterTextSplitter(chunk_size=1000, chunk_overlap=100)\n",
    "split = splitter.split_documents(extracted_text)"
   ]
  },
  {
   "cell_type": "code",
   "execution_count": 3,
   "id": "113f0bad",
   "metadata": {},
   "outputs": [
    {
     "name": "stderr",
     "output_type": "stream",
     "text": [
      "C:\\Users\\abhay\\AppData\\Local\\Temp\\ipykernel_34680\\2262757450.py:4: LangChainDeprecationWarning: The class `HuggingFaceEmbeddings` was deprecated in LangChain 0.2.2 and will be removed in 1.0. An updated version of the class exists in the :class:`~langchain-huggingface package and should be used instead. To use it run `pip install -U :class:`~langchain-huggingface` and import as `from :class:`~langchain_huggingface import HuggingFaceEmbeddings``.\n",
      "  embeddings = HuggingFaceEmbeddings(model_name=\"sentence-transformers/all-MiniLM-L6-v2\")\n",
      "c:\\Users\\abhay\\OneDrive\\Desktop\\python_LLM\\venv\\Lib\\site-packages\\tqdm\\auto.py:21: TqdmWarning: IProgress not found. Please update jupyter and ipywidgets. See https://ipywidgets.readthedocs.io/en/stable/user_install.html\n",
      "  from .autonotebook import tqdm as notebook_tqdm\n"
     ]
    }
   ],
   "source": [
    "from langchain_community.vectorstores import Chroma\n",
    "from langchain_community.embeddings import HuggingFaceEmbeddings\n",
    "\n",
    "embeddings = HuggingFaceEmbeddings(model_name=\"sentence-transformers/all-MiniLM-L6-v2\")\n",
    "database = Chroma.from_documents(split, embeddings)"
   ]
  },
  {
   "cell_type": "code",
   "execution_count": 4,
   "id": "858dc13d",
   "metadata": {},
   "outputs": [
    {
     "data": {
      "text/plain": [
       "[Document(metadata={'source': 'https://en.wikipedia.org/wiki/Samantha_Ruth_Prabhu'}, page_content='Samantha is the recipient of several awards, including four Filmfare Awards South, one Filmfare OTT Award, two Andhra Pradesh State Nandi Awards, four South Indian International Movie Awards, and three CineMAA Awards.'),\n",
       " Document(metadata={'source': 'https://en.wikipedia.org/wiki/Samantha_Ruth_Prabhu'}, page_content='\"impressive\", while DNA.com stated Samantha \"has given a very subdued and mature performance sans drama\".[74][75] Likewise, a reviewer from Silverscreen, suggested that she \"delivers a performance that stands head and shoulders above her work in previous films\".[76]'),\n",
       " Document(metadata={'source': 'https://en.wikipedia.org/wiki/Samantha_Ruth_Prabhu'}, page_content='kid to an adult is a treat to watch,\" while Rediff.com noted she is \"pretty, graceful, and does an excellent job of conveying the emotions of a girl in love, especially during the school sequence, while concluding she carries the film on her slender shoulders.\"[48][49] The Telugu version, Yeto Vellipoyindhi Manasu, received positive reviews and did well commercially, while Samantha\\'s performance again received high critical acclaim. The Hindu wrote she \"goes a step further from her famous portrayal of Jessie (Ye Maaya Chesaave) and brings out the intricacy of her character well\", while The Times of India wrote \"Samantha has the author-backed role and she creams it.\"[50][51] At the 60th Filmfare Awards South, she subsequently won the Best Actress awards for both the Tamil and Telugu film industries for her performances in Neethane En Ponvasantham and Eega. Samantha became the second-ever actress to achieve the feat after Revathi had secured both awards in 1993.[52] 2012 became her most'),\n",
       " Document(metadata={'source': 'https://en.wikipedia.org/wiki/Samantha_Ruth_Prabhu'}, page_content='of the films proved to be major successes, propelling Samantha to stardom.[21] She followed up her collaborations with Gautham Menon and A. R. Rahman by appearing in the music video for the World Classical Tamil Conference 2010 promotional song, Semmozhiyaana Thamizh Mozhiyaam, which Menon directed and Rahman composed.[citation needed]')]"
      ]
     },
     "execution_count": 4,
     "metadata": {},
     "output_type": "execute_result"
    }
   ],
   "source": [
    "query = \"awards recived by samantha\"\n",
    "res = database.similarity_search(query)\n",
    "res"
   ]
  },
  {
   "cell_type": "code",
   "execution_count": 5,
   "id": "d14b1eff",
   "metadata": {},
   "outputs": [],
   "source": [
    "from langchain_ollama import OllamaLLM\n",
    "\n",
    "llm = OllamaLLM(model=\"deepseek-r1:1.5b\")"
   ]
  },
  {
   "cell_type": "code",
   "execution_count": 6,
   "id": "d1ec3dd6",
   "metadata": {},
   "outputs": [],
   "source": [
    "from langchain_core.prompts import ChatPromptTemplate\n",
    "\n",
    "prompt = ChatPromptTemplate.from_template(\n",
    "    \"\"\"\n",
    "    you are an AI assist who will,\n",
    "1. only answer from the available context, \n",
    "2. do not answer anything that is not there in the given context, \n",
    "3. if asked out of context, simply reply \"out of context\",\n",
    "\n",
    "<context>\n",
    "{context}\n",
    "<context>\n",
    "\n",
    "Question: {input}\n",
    "    \"\"\"\n",
    ")"
   ]
  },
  {
   "cell_type": "code",
   "execution_count": 7,
   "id": "b2f13678",
   "metadata": {},
   "outputs": [],
   "source": [
    "from langchain.chains.combine_documents import create_stuff_documents_chain\n",
    "\n",
    "document_chain = create_stuff_documents_chain(llm, prompt)"
   ]
  },
  {
   "cell_type": "code",
   "execution_count": 8,
   "id": "d29492fe",
   "metadata": {},
   "outputs": [
    {
     "data": {
      "text/plain": [
       "VectorStoreRetriever(tags=['Chroma', 'HuggingFaceEmbeddings'], vectorstore=<langchain_community.vectorstores.chroma.Chroma object at 0x000001AB70E90A50>, search_kwargs={})"
      ]
     },
     "execution_count": 8,
     "metadata": {},
     "output_type": "execute_result"
    }
   ],
   "source": [
    "retriever = database.as_retriever()\n",
    "retriever"
   ]
  },
  {
   "cell_type": "code",
   "execution_count": 9,
   "id": "225a47b9",
   "metadata": {},
   "outputs": [],
   "source": [
    "from langchain.chains import create_retrieval_chain\n",
    "\n",
    "retrival_chain = create_retrieval_chain(retriever, document_chain)"
   ]
  },
  {
   "cell_type": "code",
   "execution_count": 11,
   "id": "0c3912c1",
   "metadata": {},
   "outputs": [
    {
     "name": "stdout",
     "output_type": "stream",
     "text": [
      "<think>\n",
      "Okay, so I need to figure out how to answer this question about the awards Samantha received. Let me start by reading through the context provided.\n",
      "\n",
      "The context mentions that Samantha has several awards, including four Filmfare Awards South, one Film fare OTT Award, two Andhra Pradesh State Nandi Awards, four South Indian International Movie Awards, and three CineMAA Awards. She also gave specific ratings: an \"impressive\" rating for one of her performances on DNA.com, while Rediff.com gave a higher rating saying she delivered a performance that stands above previous films. In another review by The Hindu, Samantha was praised for going further from her famous role and conveying character complexity well.\n",
      "\n",
      "She has appeared in both Tamil and Telugu versions, receiving positive reviews and performing well commercially. She also received the Best Actress award at the 60th Filmfare Awards South after winning it for her performances in Neethane En Ponvasantham and Eega, making her the second woman ever to win this award since Revathi got both awards in 1993.\n",
      "\n",
      "So, summarizing that information into a coherent answer. I need to make sure I capture all the details: the number of each award, specific performance ratings, her roles, and the best actress award for her performances. Also, mention where she appears in other languages and the commercial success of her Telugu version.\n",
      "\n",
      "I should structure this clearly, perhaps listing each award with their respective numbers and the evaluations from different sources. Then, note her role in Tamil and Telugu films, and the awards won. That way, it's comprehensive and covers all aspects of the question.\n",
      "</think>\n",
      "\n",
      "Samantha received several high-profile awards, reflecting her exceptional performance across various genres. She earned four Filmfare Awards South, one Filmfare OTT Award, two Andhra Pradesh State Nandi Awards, four South Indian International Movie Awards, and three CineMAA Awards. Her performances were well-received, with DNA.com rating her \"impressive\" for one of her roles and Rediff.com praising a performance that stands above previous films. She was also commended in reviews that highlighted her depth and emotional delivery, especially during school sequences. Additionally, in the Telugu version, Yeto Vellipoyindhi Manasu received positive reviews and commercial success. Notably, Samantha won the Best Actress award at the 60th Filmfare Awards South for her performances in Neethane En Ponvasantham and Eega, making her the second woman to achieve this honor since Revathi secured both awards in 1993. Her versatility in film roles is evident from her appearances in both Tamil and Telugu films, where commercial success was noted.\n"
     ]
    }
   ],
   "source": [
    "response = retrival_chain.invoke({\"input\":\"awards recived by samantha\"})\n",
    "print(response[\"answer\"])"
   ]
  },
  {
   "cell_type": "code",
   "execution_count": null,
   "id": "41f0eb35",
   "metadata": {},
   "outputs": [],
   "source": []
  }
 ],
 "metadata": {
  "kernelspec": {
   "display_name": "venv",
   "language": "python",
   "name": "python3"
  },
  "language_info": {
   "codemirror_mode": {
    "name": "ipython",
    "version": 3
   },
   "file_extension": ".py",
   "mimetype": "text/x-python",
   "name": "python",
   "nbconvert_exporter": "python",
   "pygments_lexer": "ipython3",
   "version": "3.11.9"
  }
 },
 "nbformat": 4,
 "nbformat_minor": 5
}
