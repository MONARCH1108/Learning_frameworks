{
 "cells": [
  {
   "cell_type": "code",
   "execution_count": 4,
   "id": "bf568943",
   "metadata": {},
   "outputs": [],
   "source": [
    "from langchain_community.document_loaders import WebBaseLoader\n",
    "import bs4\n",
    "\n",
    "response = WebBaseLoader(\n",
    "    web_path=\"https://en.wikipedia.org/wiki/Samantha_Ruth_Prabhu\",\n",
    "    bs_kwargs=dict(parse_only=bs4.SoupStrainer(\"p\"))\n",
    ")\n",
    "text = response.load()"
   ]
  },
  {
   "cell_type": "code",
   "execution_count": 5,
   "id": "a019a75d",
   "metadata": {},
   "outputs": [
    {
     "data": {
      "text/plain": [
       "[Document(metadata={'source': 'https://en.wikipedia.org/wiki/Samantha_Ruth_Prabhu'}, page_content=\"Samantha Ruth Prabhu (born 28 April 1987) is an Indian actress who works predominantly in Telugu and Tamil films. One of South India's highest-paid actresses,[2][3][4] Samantha is the recipient of several accolades, including four Filmfare Awards South, two Nandi Awards and a Tamil Nadu State Film Award.\\nAfter a brief stint as a model while pursuing a degree in commerce, Samantha made her acting debut in the Telugu romance film Ye Maaya Chesave (2010), winning the Filmfare Award for Best Female Debut – South. She became the second actress to win both the Filmfare Award for Best Actress – Tamil and Best Actress – Telugu in the same year, for her performances in the 2012 films Neethaane En Ponvasantham and Eega, respectively. Over the next few years, she played the leading lady in top-grossing androcentric films such as Dookudu (2011), Seethamma Vakitlo Sirimalle Chettu (2012), Attarintiki Daredi (2013), Kaththi (2014), Theri (2016), 24 (2016), Mersal (2017), and Rangasthalam (2018).\"),\n",
       " Document(metadata={'source': 'https://en.wikipedia.org/wiki/Samantha_Ruth_Prabhu'}, page_content='Her performance in A Aa (2016) won Samantha her fourth Filmfare Award, and she gained further praise for her performances in Mahanati (2018), Super Deluxe (2019), and Majili (2019), and the Amazon Prime Video thriller series The Family Man (2021). The last of these earned her a Filmfare OTT Award. Following two critical and commercial failures,[5][6] she starred in the action series Citadel: Honey Bunny (2024). Samantha is also the founder of a charitable trust Pratyusha Support.\\nSamantha was born on 28 April 1987 to Joseph Prabhu and Ninette. Her father is a Telugu, and her mother is a Malayali.[7] She was born and brought up in the Pallavaram neighborhood of Chennai, Tamil Nadu,[8] as the youngest child of the family, with two elder brothers, Jonathan and David. She can speak both Tamil and Telugu fluently.[9][10]'),\n",
       " Document(metadata={'source': 'https://en.wikipedia.org/wiki/Samantha_Ruth_Prabhu'}, page_content='Samantha was schooled at Holy Angels Anglo Indian Higher Secondary School, Chennai, and then completed a degree in commerce at Stella Maris College, Chennai.[9][11] Towards the end of her undergraduate degree, she became involved in modeling, notably working with Naidu Hall, through which she was first spotted by filmmaker Ravi Varman.[12]'),\n",
       " Document(metadata={'source': 'https://en.wikipedia.org/wiki/Samantha_Ruth_Prabhu'}, page_content='Samantha began her professional film career with Gautham Vasudev Menon\\'s Telugu film, Ye Maaya Chesave (2010). The film, simultaneously made in Tamil as Vinnaithaandi Varuvaayaa (2010), was highly anticipated prior to release, primarily due to the first time collaboration between Gautham Menon and composer A. R. Rahman.[13] The actress successfully auditioned and was signed up for the project in August 2009. The film was shot in India and the United States, and it was released on 26 February 2010.[14] Post-release, she revealed that Menon played a \"crucial part in moulding her as an actress\", teaching her how to remain natural and comfortable in front of the screen, even if she had no dialogues in a scene.[15] In the film, Samantha played the lead character Jessie, a Malayali Saint Thomas Christian girl living in Hyderabad, with whom the male protagonist, played by Naga Chaitanya, falls in love. Upon release of the film, Samantha received highly positive reviews for her portrayal,'),\n",
       " Document(metadata={'source': 'https://en.wikipedia.org/wiki/Samantha_Ruth_Prabhu'}, page_content='with the film itself garnering widespread critical acclaim.[16] Critics at Sify praised Samantha as a \"scene-stealer\" and her beauty as \"alluring\", adding, \"she was the girl to watch out for.\"[16] Jeevi from Idlebrain.com, wrote that \"Samantha\\'s debut is one of the best heroine debuts in Telugu cinema\" and noted that the \"minute expressions she gave spoke volumes about her\", whilst labelling the film as a \"classic\". Her performance in Ye Maaya Chesave earned her first nomination for the Filmfare Award for Best Actress – Telugu and won her the Filmfare Award for Best Female Debut – South and the Nandi Special Jury Award.[17][18][19] Samantha appeared in a cameo role in the Tamil version of the film, portraying an assistant director who becomes an actress.[20] Both the Telugu and the Tamil versions of the films proved to be major successes, propelling Samantha to stardom.[21] She followed up her collaborations with Gautham Menon and A. R. Rahman by appearing in the music video for the'),\n",
       " Document(metadata={'source': 'https://en.wikipedia.org/wiki/Samantha_Ruth_Prabhu'}, page_content='for the World Classical Tamil Conference 2010 promotional song, Semmozhiyaana Thamizh Mozhiyaam, which Menon directed and Rahman composed.[citation needed]'),\n",
       " Document(metadata={'source': 'https://en.wikipedia.org/wiki/Samantha_Ruth_Prabhu'}, page_content='Samantha\\'s next release was the romantic drama, Baana Kaathadi (2010), opposite Adharvaa. The film was actually the third Tamil project signed by the actress, but its release preceded the first two that she was contracted for due to delays in their completion.[22][23] Samantha portrayed a student of the National Institute of Fashion Technology (NIFT), the first such role in Tamil cinema.[24] Her next release was Ravi Varman\\'s Moscowin Kavery (2010), originally the first film she began work on. The shooting for the film began in August 2007, with Samantha, then briefly credited with the screen name Yasodha, joining the team later in the year.[25] In an interview held in 2008, Ravi Varman mentioned that he had decided that Samantha would be the lead actress for his film within three minutes after viewing one of her commercial assignments.[12] He went on to describe her as an actress with \"intelligence\" and \"potential\", whilst drawing comparisons with the noted actress, Revathi.[12]'),\n",
       " Document(metadata={'source': 'https://en.wikipedia.org/wiki/Samantha_Ruth_Prabhu'}, page_content=\"However, due to Ravi Varman's prior commitments as cinematographer in other projects, the film languished in development hell, eventually releasing in August 2010.[26] The film earned negative reviews from critics, though Samantha's performance was credited as one of the sole highlights that the film offered.[27] In August 2008, while still completing her last three projects, Samantha also signed up to play the lead role of a modern girl in the Narain-starrer, Pookada Ravi, which was later shelved.[28][29] Samantha then went on to feature in Vamsi Paidipally's Telugu film Brindaavanam (2010) in which she played a supporting role alongside NTR Jr and Kajal Aggarwal. Her performance as Indu was well-received despite having a shorter screen time, and the film became her second successful venture in Telugu.[citation needed]\"),\n",
       " Document(metadata={'source': 'https://en.wikipedia.org/wiki/Samantha_Ruth_Prabhu'}, page_content='Samantha featured in the big-budget Telugu film, Dookudu (2012) alongside Mahesh Babu, which became one of the most successful Telugu films of all time.[30] The film received positive reviews, with a critic from The Times of India stating \"Samantha looks beautiful and has done a great job, though her role as Prashanthi isn\\'t too lengthy.\"[31] She received her second nomination for the Filmfare Award for Best Actress – Telugu for her performance in the film. She also subsequently made guest appearances in two of Gautham Vasudev Menon\\'s films, first in the psychological thriller film, Nadunisi Naaygal (2011) as a mental asylum inmate and then repeated her role from Vinnaithaandi Varuvaayaa in the Hindi version of the film, Ekk Deewana Tha (2012). Her popularity in Telugu films led to Nadunisi Naaygal was dubbed and released in Telugu as Eera Gulabeelu, with Samantha featured prominently on the film\\'s posters, despite only having a guest appearance.[32] During the period, Samantha had'),\n",
       " Document(metadata={'source': 'https://en.wikipedia.org/wiki/Samantha_Ruth_Prabhu'}, page_content='had also been signed two big-budget projects in Tamil, Mani Ratnam\\'s Kadal (2013) and Shankar\\'s I (2015), but was forced to opt out from both films, since she was suffering from a skin disease and could not work for two months during mid-2012.[33][34][35] Samantha next featured in S. S. Rajamouli\\'s live action Telugu-Tamil bilingual project Eega (2012) alongside Nani and Sudeep, portraying a micro artist who runs a NGO and takes revenge for the murder of her lover.[36] As the film featured a CGI-created housefly as the main character, Samantha noted that she had to use her imagination and act accordingly. She also revealed that many heavy lights were used for the shoot of the film and she subsequently suffered skin burns, calling the process \"very stressful\" but \"satisfying\".[37] Titled Naan Ee (2012) in Tamil, the film opened to highly positive reviews and Samantha also won high critical acclaim for her performance. A critic from The Hindu noted \"Samantha blooms in the role given to'),\n",
       " Document(metadata={'source': 'https://en.wikipedia.org/wiki/Samantha_Ruth_Prabhu'}, page_content='given to her,\" while Jeevi of Idlebrain.com wrote her \"successful run continues as she portrays the role a bereaved lover with perfection\".[38][39] Sify.com also praised her performance in the film, citing her \"subtle expressions of love, fear and anxiety work well for the film\" and that she \"looks beautiful and has performed her role with consummate ease\".[40][41] The film went on to become a major commercial success, grossing more than ₹ 1.25\\xa0billion, and went on to be dubbed in several foreign and Indian languages.[42][43][44]'),\n",
       " Document(metadata={'source': 'https://en.wikipedia.org/wiki/Samantha_Ruth_Prabhu'}, page_content='Samantha then worked on Gautham Vasudev Menon\\'s a trilingual romantic drama film and played the leading female role of Nithya in the Tamil, Telugu, and Hindi versions of the film, shooting scenes simultaneously back-to-back with three different actors. The Tamil version, Neethaane En Ponvasantham (2012) featured her alongside Jiiva, while Yeto Vellipoyindhi Manasu (2012) paired her opposite Nani. A further Hindi version titled Assi Nabbe Poorey Sau with Aditya Roy Kapoor was simultaneously shot with the other two films and was \"60%\" completed, before Menon shelved the venture after his other Hindi film, Ekk Deewana Tha, had failed at the box office.[45] The film spanned three periods in the life of a couple, focusing on their romantic relationship at school, college and in their late twenties. Samantha revealed that she knew Gautham would want to work with her again and immediately accepted the opportunity to portray the roles when she was offered the film. She felt that she \"could'),\n",
       " Document(metadata={'source': 'https://en.wikipedia.org/wiki/Samantha_Ruth_Prabhu'}, page_content='\"could relate to the attributes and the circumstances the character goes through\" and described Nithya\\'s character as \"close to her.\"[46] To make her performance as authentic as possible, Samantha chose to dub for herself in the Tamil version of the film. The Tamil and Telugu versions of the film opened in December 2012, earning polarizing reactions. Neethane En Ponvasantham earned mixed reviews and performed averagely at the box office, though Samantha received highly critical acclaim for her portrayal. The critic from The Hindu noted she \"comes up with possibly the best performance by a female lead in Tamil cinema this year\" and \"her transformation from a gawky teenager to an adult, unable to overcome her ego, is outstanding\".[47] Meanwhile, IBN stated \"Samantha\\'s transformation from a school kid to an adult is a treat to watch,\" while Rediff.com noted she is \"pretty, graceful, and does an excellent job of conveying the emotions of a girl in love, especially during the school'),\n",
       " Document(metadata={'source': 'https://en.wikipedia.org/wiki/Samantha_Ruth_Prabhu'}, page_content='school sequence, while concluding she carries the film on her slender shoulders.\"[48][49] The Telugu version, Yeto Vellipoyindhi Manasu, received positive reviews and did well commercially, while Samantha\\'s performance again received high critical acclaim. The Hindu wrote she \"goes a step further from her famous portrayal of Jessie (Ye Maaya Chesaave) and brings out the intricacy of her character well\", while The Times of India wrote \"Samantha has the author-backed role and she creams it.\"[50][51] At the 60th Filmfare Awards South, she subsequently won the Best Actress awards for both the Tamil and Telugu film industries for her performances in Neethane En Ponvasantham and Eega. Samantha became the second-ever actress to achieve the feat after Revathi had secured both awards in 1993.[52] 2012 became her most prolific award-winning year and she secured further accolades for Best Actress at the Vijay Awards, Santosham Film Awards and the CineMAA Awards.[53]'),\n",
       " Document(metadata={'source': 'https://en.wikipedia.org/wiki/Samantha_Ruth_Prabhu'}, page_content='Although Samantha often portrayed strong character roles in her early films, post-2012, she has appeared increasingly in big-budget, hero-oriented films, which have comparatively smaller scope for actresses.[54] Samantha next appeared in the Telugu multi-starrer film, Seethamma Vakitlo Sirimalle Chettu (2013) alongside Venkatesh and Mahesh Babu, which received positive reviews and was commercially successful. Though her role was comparatively minuscule to her co-stars, IBN Live noted it was \"good to see Samantha shed her glamorous side and welcome performance-oriented roles, which she only handles with deftness and ease\".[55][56] The romantic comedy Jabardasth (2013) alongside Siddharth, in which she portrayed a wedding planner, became a commercial failure, though critics noted Samantha is \"getting better by the day and it\\'s a delight to watch her on screen\".[57][58] Samantha then starred alongside Pawan Kalyan in the family drama, Attarintiki Daredi (2013), which emerged as the'),\n",
       " Document(metadata={'source': 'https://en.wikipedia.org/wiki/Samantha_Ruth_Prabhu'}, page_content='as the highest-grossing Telugu film upon release. A critic from Rediff.com noted Samantha \"exudes confidence even though she has limited screen time and nothing much to do\", and her performance saw her win Best Actress recognition at the SIIMA Awards and the Santosham Film Awards, in addition to her fourth nomination for the Filmfare Award for Best Actress – Telugu.[59] Her final release of 2013 was in the unsuccessful Telugu masala film Ramayya Vasthavayya, where she had a small role, with a critic noting \"we have seen Samantha in better roles and better films.\"[60]'),\n",
       " Document(metadata={'source': 'https://en.wikipedia.org/wiki/Samantha_Ruth_Prabhu'}, page_content='The year 2014 saw Samantha appear in six films and make a return to the Tamil film industry. Her first release saw Samantha portray a dual role in the family drama film Manam (2014), where she featured alongside several members of the Akkineni film family. Featuring as a young mother and a college student in two different time eras, Samantha received positive reviews for her work, with the critic from Sify saying \"she excels\" and The Hindu\\'s reviewer noting that she \"emotes well and easily shifts between the roles.\"[61][62] Her performance fetched Samantha her fifth nomination for the Filmfare Award for Best Actress – Telugu, while she won Best Actress (Critics) at the SIIMA Awards. Samantha subsequently featured alongside Naga Chaitanya again in the long-delayed Autonagar Surya (2014), before playing different minuscule roles in the Telugu action masala films Alludu Seenu (2014) and Rabhasa (2014). Critics lamented that she \"signed up to be a glam doll\" for the ventures. She has'),\n",
       " Document(metadata={'source': 'https://en.wikipedia.org/wiki/Samantha_Ruth_Prabhu'}, page_content='She has \"previously shown us she is capable of doing much more, but of late, seems to be stuck with doing similar roles that require her to be an attractive prop.\"[63][64] Samantha later revealed that she solely worked on Alludu Seenu as a favor to producer Bellamkonda Suresh, who had helped her delay the making of Jabardasth during her health problems.[65]'),\n",
       " Document(metadata={'source': 'https://en.wikipedia.org/wiki/Samantha_Ruth_Prabhu'}, page_content='Samantha worked simultaneously on two big-budget Tamil films in early 2014, working with industry-leading actors and directors.[15] N. Lingusamy\\'s gangster masala film Anjaan (2014) opposite Suriya, received negative reviews and performed poorly at the box office. Portraying a small role, critics panned her character in the film, stating Samantha \"gamely performs the requisite crazy girl duties\".[66] Her other release, AR Murugadoss\\'s action drama Kaththi (2014) opposite Vijay won predominantly positive reviews and became the most profitable Tamil film of 2014.[citation needed] Again, reviewers criticised her character stating \"all she had to do in the film is smile and look pretty,\" while The Hindu remarked she played \"an emoticon\" and \"that covers her contribution to the proceedings\".[67][68] She received her second nomination for the Filmfare Award for Best Actress – Tamil for her performance in Kaththi. She subsequently featured in the Telugu film S/O Satyamurthy with Allu Arjun,'),\n",
       " Document(metadata={'source': 'https://en.wikipedia.org/wiki/Samantha_Ruth_Prabhu'}, page_content='Arjun, as a part of another hero-oriented film, though critics noted she \"enacts her part with grace\" and that she \"plays her role well\".[69][70]'),\n",
       " Document(metadata={'source': 'https://en.wikipedia.org/wiki/Samantha_Ruth_Prabhu'}, page_content='She then featured in her second dual role as a part of Vijay Milton\\'s road film, 10 Endrathukulla (2015), where she appeared alongside Vikram. She sported a different rural look for the role and her performance won mixed reviews, with a critic noting \"Samantha doesn\\'t make much of an impact in the film except towards the end.\"[71] Like Anjaan and Kaththi, critics lamented her role as a clumsy girl, with Sify.com stating \"beyond a point Samantha\\'s character is plainly annoying\".[72][73] Samantha subsequently won positive reviews for her role and performance in Velraj\\'s Thanga Magan, where she featured opposite Dhanush. Portraying a homely role of a wife for the first time in Tamil films, the actress noted it would be the first of many such performance-oriented roles, as she looked to move away from being typecast in charming characters. A critic from Sify.com labelled her performance as \"impressive\", while DNA.com stated Samantha \"has given a very subdued and mature performance sans'),\n",
       " Document(metadata={'source': 'https://en.wikipedia.org/wiki/Samantha_Ruth_Prabhu'}, page_content='sans drama\".[74][75] Likewise, a reviewer from Silverscreen, suggested that she \"delivers a performance that stands head and shoulders above her work in previous films\".[76]'),\n",
       " Document(metadata={'source': 'https://en.wikipedia.org/wiki/Samantha_Ruth_Prabhu'}, page_content='Samantha\\'s first release of 2016 was in the Tamil romantic drama film Bangalore Naatkal, where she made a guest appearance and reprised Nithya Menen\\'s minor role from the film\\'s Malayalam original.[77] She then portrayed the lead female role in Atlee\\'s Theri, and featured alongside Vijay for the second time. Her performance received positive reviews, with a critic from DNA India stating \"Samantha looks pretty as always\" and that \"she has done an incredible job in dubbing with a range of emotions in her numerous shades – doctor, lover, mother – and she shines\".[78] Likewise, Behindwoods.com stated that Theri \"could be one of Samantha\\'s best roles; she plays a doctor and has given out a soulful performance\".[79] The film went on to become of the most profitable Tamil films of all time, upon release, and ended a barren spell for the actress in Tamil cinema, by becoming her first commercially successful film in Tamil cinema since Kaththi (2014).[80] Samantha then worked for a second time'),\n",
       " Document(metadata={'source': 'https://en.wikipedia.org/wiki/Samantha_Ruth_Prabhu'}, page_content='time with director Vikram Kumar and Suriya in the critically acclaimed fantasy film 24. Featuring as the love interest of the film\\'s lead character, Samantha won praise from critics for her small role in the film, with Sify.com stating that the actress \"does well in the comedy scenes.\"[81][82] The film also performed well at the box office, with The Hindu stating she was \"at the top of the film industry,\" following her back-to-back commercial successes.[83][84] She received two nominations for the Filmfare Award for Best Actress – Tamil for her performances in Theri and 24 respectively.'),\n",
       " Document(metadata={'source': 'https://en.wikipedia.org/wiki/Samantha_Ruth_Prabhu'}, page_content='Samantha also featured in three high-profile Telugu films during 2016; Although Srikanth Addala\\'s family drama Brahmotsavam opposite Mahesh Babu was a box office failure, her role in Trivikram Srinivas\\'s romantic comedy, A Aa alongside Nithiin, won her high critical acclaim and commercial success. Portraying Anasuya Ramalingam, a naive girl trying to escape from her mother\\'s controlling behavior, Samantha received highly positive reviews for her character portrayal. A critic from The New Indian Express noted \"A Aa undoubtedly is Samantha\\'s film\" and that \"right from her first frame till the last, she delivers a stellar performance and shows what she can do if given ample screen time\", adding that she was \"a joy to watch\".[85] Likewise, a reviewer from The Hindu noted \"Samantha, after a long time, gets enough screen time and scope to shine\", stating \"she\\'s vulnerable as a 23-year-old reeling in her mother\\'s shadow and can also play the high maintenance, stubborn girl with ease\", while'),\n",
       " Document(metadata={'source': 'https://en.wikipedia.org/wiki/Samantha_Ruth_Prabhu'}, page_content='while concluding \"this is a role she can be proud of\".[86] Similarly Bollywoodlife.com noted her \"earnest performance was the life and soul of the romantic comedy\", while DNA India\\'s critic cited that \"Samantha and Nithiin\\'s performances in this movie will be what people would rave about for days to come\".[87][88] The film also performed well at the box office, doing excellent business for a Telugu film released in the United States.[89][90] Her performance fetched her several awards, including the Filmfare Award for Best Actress – Telugu, her second win in the category. She then featured in the commercially successful action film Janatha Garage directed by Koratala Siva, with a critic noting despite \"a limited role, she gives a nice performance\".[91][92] She then portrayed the lead female role in Atlee\\'s Mersal, and featured alongside Vijay for the third time and her performance received positive reviews and the film became one of the highest grossing Tamil films of 2017 and was a'),\n",
       " Document(metadata={'source': 'https://en.wikipedia.org/wiki/Samantha_Ruth_Prabhu'}, page_content='and was a blockbuster at the box office. Mersal went on to join the coveted ₹200 crore club.[93]'),\n",
       " Document(metadata={'source': 'https://en.wikipedia.org/wiki/Samantha_Ruth_Prabhu'}, page_content='In 2018, she starred in Rangasthalam which went on to become one of the highest grossing Telugu films.[94] The Tamil action thriller Irumbu Thirai in which she starred opposite Vishal and the Telugu biographical drama Mahanati were successful at the box-office and each had a run of 100 days at the box office. Her performances in Rangasthalam and Mahanati were highly praised, and she earned her seventh Best Actress – Telugu nomination for the former and her first Best Supporting Actress – Telugu nomination for the latter at the Filmfare Awards. Mridula R from The News Minute noted her critically acclaimed film U Turn as a curiosity-generating script that provides her with the ultimate screen presence since the story begins with her and she finds it ends, rather that not being shaking a leg in Anjaan, Brindavanam, Kaththi and Attarintiki Daredi or being glam doll or having out-of-scope performances overshadowed in Dookudu, S/O Satyamurthy, Brahmotsavam, Theri and Mersal.[95]'),\n",
       " Document(metadata={'source': 'https://en.wikipedia.org/wiki/Samantha_Ruth_Prabhu'}, page_content='After acting in her first women-centric film U Turn, she is next starred in another women-centric film Oh! Baby released on 5 July 2019. The film is the remake of the 2014 South Korean film Miss Granny. It grossed ₹40 crores at the box office.[96] A critic from Firstpost cited her performance to be her \"career-best\".[97] Manoj Kumar R of The Indian Express felt that Samantha thrives in the role that reflects the possibilities of youth, the burden of old age, and the society\\'s indifference to the desires and complaints of old people.\"[98] She next starred in Majili alongside Naga Chaitanya, which marked their first collaboration after their marriage and their fourth collaboration overall after Ye Maaya Chesave, Manam, and Autonagar Surya.[99] Her character was included in the list of strongest female roles of 2019 compiled by Auro Media House.[100] Her performance received critical acclaim for her performance in Majili and several accolades for her performance in the two'),\n",
       " Document(metadata={'source': 'https://en.wikipedia.org/wiki/Samantha_Ruth_Prabhu'}, page_content='the two films.[101][102] Samantha next played the character of Janaki Devi in the 2020 film Jaanu, which was a remake of 2018 Tamil film \\'96. The film received positive reviews with her performance receiving critical acclaim. In 2021, she performed her first dance number in the film, Pushpa: The Rise alongside Allu Arjun in the song \"Oo Antava Oo Oo Antava\".[103]'),\n",
       " Document(metadata={'source': 'https://en.wikipedia.org/wiki/Samantha_Ruth_Prabhu'}, page_content=\"Samantha made her television debut in 2020 by hosting a special episode of the Telugu-language reality television series Bigg Boss 4.[104] She received praise for her work in the series.[105] Later, in the same year she once again hosted a talk show Sam Jam that streamed on Aha.[106] In 2021, Samantha headlined the second season of Amazon Prime Video's Hindi spy thriller streaming television series The Family Man alongside Manoj Bajpayee, thus marking her debut in the digital content medium.[107] She played the role of the main antagonist Raji, a rebel leader from the Liberation Tigers of Tamil Eelam.[108] Her performance earned her widespread critical acclaim and won her the Filmfare OTT Award for Best Actress in a Drama Series.[109][110][111]\"),\n",
       " Document(metadata={'source': 'https://en.wikipedia.org/wiki/Samantha_Ruth_Prabhu'}, page_content='Her first release of 2022 Kaathuvaakula Rendu Kaadhal received mixed reviews.[112] Directed by Vignesh Shivan, she played the role Khatija alongside Nayanthara and Vijay Sethupathi.[113][114] In 2022, Samantha starred in the Hari–Harish directorial Telugu film Yashoda.[115] In 2023, she appeared in mythological film Shaakuntalam, directed by Gunasekhar.[116] The film was critical and commercial failure.[5] She then appeared in Kushi opposite Vijay Deverakonda, which received mixed reviews from critics.[117] The film also was a box office bomb.[6]\\nIn her first release of 2024, Samantha played a struggling actress, Honey (mother to Priyanka Chopra\\'s character Nadia Sinh\\'s from Citadel), in Raj & DK\\'s series Citadel: Honey Bunny, opposite Varun Dhawan.[118][119] Shubhra Gupta called her the \"best part\" of the series and was appreciative of her action sequences.[120] Samantha will next appear in the series Rakt Brahmand, opposite Aditya Roy Kapur.[121]'),\n",
       " Document(metadata={'source': 'https://en.wikipedia.org/wiki/Samantha_Ruth_Prabhu'}, page_content='Samantha suffered from an extended period of illness in 2012, which saw her having to opt out of big film projects and take a two-month break from acting. She suffered from an immunity disorder and then had a further setback after her body did not respond well to antibiotics.[122]\\nSamantha began dating actor Naga Chaitanya in 2010 after appearing in the film Ye Maaya Chesave.[123] The pair were engaged in a ceremony in Hyderabad on 29 January 2017.[124][125] She got married in Goa as per traditional Hindu customs on 6 October 2017 and then by Christian customs on 7 October 2017,[126] and became a member of the Akkineni family.[127] She then started using her married name, Samantha Akkineni.[128][129] On 31 July 2021, she removed her surname \"Akkineni\" from her social media handles which led to speculations of her separation with Naga Chaitanya.[130][131][132] Later, on 2 October 2021, they announced their separation and eventual divorce.[133][134]'),\n",
       " Document(metadata={'source': 'https://en.wikipedia.org/wiki/Samantha_Ruth_Prabhu'}, page_content=\"On 28 September 2020, Samantha became the founder of the women's clothing brand Saaki World.[135]\\nAfter June 2022, Samantha was suddenly inactive on social media which sparked several rumours about her health and there were rumours of her suffering from a relapse of a rare skin disorder. However, her team dismissed all rumours.[136] On 29 October 2022, she announced that she was diagnosed with dermatomyositis.[137][138] In August 2023, Samantha served as Chief Guest at the world's largest Indian Independence Day Parade in Manhattan, New York City.[139][140]\"),\n",
       " Document(metadata={'source': 'https://en.wikipedia.org/wiki/Samantha_Ruth_Prabhu'}, page_content='Samantha has actively been involved in philanthropic activities and donates her earnings from endorsements, product launches, and inauguration events to her charitable trust, Pratyusha Support, registered in 2012.[141] She chose to begin the non-governmental organisation after being bed-ridden for 15 days during her documented illness in 2012 and wanted to give back to society. Samantha subsequently started the Pratyusha Support Foundation to provide medical support for women and children with the help of three doctor friends. She provided full financial support for the program.[142] She held a fundraiser in August 2013 to raise awareness of her foundation, auctioning several of her items and memorabilia from films.[143] A further initiative in 2014 saw the launch of a program to fulfill the wishes of children with life-threatening diseases; Samantha financed trips for children to fly on an airplane and travel to the Taj Mahal, and organized opportunities for children to meet their'),\n",
       " Document(metadata={'source': 'https://en.wikipedia.org/wiki/Samantha_Ruth_Prabhu'}, page_content='their favorite film actors.[144][145] Samantha has also been involved in spreading awareness of haemophilia, regularly taking part in events creating awareness of the disease.[146]'),\n",
       " Document(metadata={'source': 'https://en.wikipedia.org/wiki/Samantha_Ruth_Prabhu'}, page_content='Samantha agreed in January 2015 to pay a third of the hospital bills of one infant per week who required intensive care support at Andhra Hospitals through her charitable trust. Under the arrangement, Samantha agreed to contribute towards a third of the bills, while Andhra Hospitals would also pay a third of the bill, and the parents would pay the remaining third.[147] In November 2015, Samantha entered into a further agreement with Andhra Hospitals to sponsor vaccination of all infants below six months for rotaviral infections free of cost.[147][148] Later in the month, the actress took part in an organ donation pledge at Madhapur.[149] During the 2015 Chennai floods, Samantha was situated in Hyderabad for the shoot of a film and helped mobilize the Mana Madras Kosam initiative organized by the Telugu film industry. Through the initiative, she participated in gathering relief materials at Ramanaidu Studios. She appealed to the Telugu-speaking public to help gather resources to send'),\n",
       " Document(metadata={'source': 'https://en.wikipedia.org/wiki/Samantha_Ruth_Prabhu'}, page_content='to send to Chennai.[150] She later donated 30 lakh rupees for flood relief activities to take place in Pallavaram, the suburb in which the actress grew up.[151][152][153] Samantha stood up for the cause of Handloom people of Telangana and Andhra Pradesh states by wearing them and making photoshoots for handloom made sarees and other items.[154] In 2017, Samantha launched a business venture Tweave in partnership with the Telangana Government, which was a program to promote the handloom sector in Telangana.[155][156]'),\n",
       " Document(metadata={'source': 'https://en.wikipedia.org/wiki/Samantha_Ruth_Prabhu'}, page_content='The success of Ye Maaya Chesave (2010) and subsequent back-to-back successes prompted Rediff.com to label her \"the most sought-after actress in the Telugu film industry\" in 2014.[157] Her initial choice of films depicted her as an actress who actively selects to feature in strong female roles, with The Times of India noting that \"scripts are written around the characters she portrays\" and that she held a place in the \"wishlist of every top actor, director and producer\".[158] Her inclusion in Telugu film projects were also initially considered a \"lucky charm\" by producers, though Samantha acknowledged that though \"destiny\" played a role in her career, and that there were \"many women out there who are more beautiful and more talented\" than she was and that she hoped her name would instead be \"synonymous with hard work\".[158] Samantha also stated that she was willing to forgo her salary demands to appear in good films, revealing that she worked on Gautham Vasudev Menon\\'s films for lower'),\n",
       " Document(metadata={'source': 'https://en.wikipedia.org/wiki/Samantha_Ruth_Prabhu'}, page_content=\"for lower fees and that she had rejected more lucrative offers to feature in S. S. Rajamouli's Eega (2012).[158] She ranked 17th and 34th in The Times Most Desirable Women in 2019[159] and 2020 respectively.[160] In March 2022, according to a report by The Times of India, Samantha became the second highest-paid South Indian actress after Nayanthara.[161]\"),\n",
       " Document(metadata={'source': 'https://en.wikipedia.org/wiki/Samantha_Ruth_Prabhu'}, page_content='After portraying strong characters in her initial films, Samantha featured in increasingly hero-centric films in the mid-2010s. When questioned on her decision not to take up more heroine-oriented roles, Samantha lamented the lack of chances that the South Indian film industry presents for established female characters and described it as \"simply male-dominated\".[15][162] Talking about her glamorous role in her comeback Tamil film, Anjaan (2014), Samantha stated that she made a \"thoughtful call\" as \"it was important to do these kind of films to get exposure into the market,\" and that regrettably \"mass films\" were \"where the main audience\" was in South Indian cinema. She also added that she did not want to be \"typecast as the girl-next-door\" and was keen to prove critics wrong, who said that she could not fit into glamorous roles.[citation needed] In an interview in 2015, Samantha suggested that she was unhappy with her work during the previous year and would no longer do any more'),\n",
       " Document(metadata={'source': 'https://en.wikipedia.org/wiki/Samantha_Ruth_Prabhu'}, page_content='any more films where she would be \"required to do five songs and the scenes leading up to the songs\" and made a promise to herself that \"if she were not going to get good roles,\" she would quit acting.[163]'),\n",
       " Document(metadata={'source': 'https://en.wikipedia.org/wiki/Samantha_Ruth_Prabhu'}, page_content='Being able to speak both Tamil and Telugu, Samantha has often been cast in bilingual films and has juggled her commitments between the Tamil and Telugu film industries. Even though she had a brief foray into Hindi cinema with the shelved Assi Nabbe Poorey Sau, Samantha has distanced herself from working on Hindi language films, stating that she has no incentive to move to Bollywood unlike actresses of North Indian origin and that audiences from South India would relate to her appearance more.[15] Her popularity has led to the actress representing several brands on a pan-Indian scale.[164] She has often been cast opposite the same actors more than once, featuring in two or more films with Vijay, Suriya, Naga Chaitanya, Nani, Mahesh Babu and N. T. Rama Rao Jr., a feat Samantha revealed she takes \"pride in\".[163] The actress has also regularly appreciated work by her contemporaries, and has praised performances by Anushka Shetty, Nithya Menen and Sai Pallavi in particular.[citation'),\n",
       " Document(metadata={'source': 'https://en.wikipedia.org/wiki/Samantha_Ruth_Prabhu'}, page_content='needed]'),\n",
       " Document(metadata={'source': 'https://en.wikipedia.org/wiki/Samantha_Ruth_Prabhu'}, page_content='Samantha has also been involved in a few controversies due to voicing her opinions through Twitter. Following the release of a promotional poster for the Telugu film, 1: Nenokkadine (2014) in December 2013, Samantha criticized the depiction of actress Kriti Sanon crawling behind actor Mahesh Babu on the beach, who looks back at Kriti disapprovingly. Samantha tweeted that the poster was \"deeply regressive\" and stated that the makers were offensive to depict women like animals.[citation needed] The tweet received an adversely storming response from Mahesh Babu\\'s fans, who launched a scathing attack on her online and targeted abuse at the actress. Her opinions were later backed by actor Siddharth and directors Sekhar Kammula and Nandini Reddy, who also resultantly faced similar abuse, before Mahesh Babu apologised.[165][166][167] Through her tweets, she was also criticised for revealing actor Akhil\\'s presence in Manam (2014) and retweeting a pirated image from her film 10 Endrathukulla'),\n",
       " Document(metadata={'source': 'https://en.wikipedia.org/wiki/Samantha_Ruth_Prabhu'}, page_content='(2015).[168][169] Her family home in Chennai was raided in late September 2015 by income tax officials, in a planned operation targeting film actors, though the actress and her father denied making any wrongful payments.[170][171] In 2017, she was appointed as the ambassador for Telangana Handlooms by the government of Telangana and currently works to promote handloom textiles in the state of Telangana.[citation needed]'),\n",
       " Document(metadata={'source': 'https://en.wikipedia.org/wiki/Samantha_Ruth_Prabhu'}, page_content='In July 2024, she has posted an Instagram story which featured a picture of her using hydrogen peroxide nebuliser and advised to use it for respiratory viral infections.[172][173] Condemning her, Cyriac Abby Philips, a hepatologist, called her \"health and science illiterate\" claiming that such methods are dangerous for lungs while providing evidences and journals for reference in his post on X.[174] This  led to controversy against Samantha with many citing the advice as \"dangerous\" and \"harmful\".[175][176] Later, Samantha has responded to it while briefing in her Instagram post that she has \"shared it with good intentions and not to harm anyone\". Further, she defended herself saying that her doctor with 25 years of experience suggested it to her. She has also mentioned that Philips should have targeted the doctor who had suggested her.[177] Responding to it, Philips wrote in his post that, \"I understand and empathize with Samantha\\'s health condition, and I wish her the very best. I'),\n",
       " Document(metadata={'source': 'https://en.wikipedia.org/wiki/Samantha_Ruth_Prabhu'}, page_content='best. I apologize if she felt uneasy or bad about the way the message was conveyed. That was unintentional. My aim was for her to leave behind medical misinformation, peddling \"doctors\" who are using her vulnerability and catering to her anecdotal experiences for their own gain. I sincerely suggest that patients with chronic illnesses please continue with evidence-based medical practices to remain inside a safety net and sanctuary\".[178][179] He further called the doctors who have suggested her as \"fraud\" and \"businessmen\".[180]'),\n",
       " Document(metadata={'source': 'https://en.wikipedia.org/wiki/Samantha_Ruth_Prabhu'}, page_content='Samantha is the recipient of several awards, including four Filmfare Awards South, one Filmfare OTT Award, two Andhra Pradesh State Nandi Awards, four South Indian International Movie Awards, and three CineMAA Awards.')]"
      ]
     },
     "execution_count": 5,
     "metadata": {},
     "output_type": "execute_result"
    }
   ],
   "source": [
    "from langchain.text_splitter import RecursiveCharacterTextSplitter\n",
    "\n",
    "splitter = RecursiveCharacterTextSplitter(chunk_size=1000, chunk_overlap=10)\n",
    "doc = splitter.split_documents(text)\n",
    "doc"
   ]
  },
  {
   "cell_type": "code",
   "execution_count": 6,
   "id": "2dd08312",
   "metadata": {},
   "outputs": [],
   "source": [
    "from langchain.embeddings import HuggingFaceEmbeddings\n",
    "from langchain.vectorstores import Chroma\n",
    "\n",
    "embeddings = HuggingFaceEmbeddings(model_name=\"sentence-transformers/paraphrase-MiniLM-L6-v2\")\n",
    "data_base = Chroma.from_documents(doc, embeddings)"
   ]
  },
  {
   "cell_type": "code",
   "execution_count": 8,
   "id": "1b4c5f5f",
   "metadata": {},
   "outputs": [
    {
     "data": {
      "text/plain": [
       "[Document(metadata={'source': 'https://en.wikipedia.org/wiki/Samantha_Ruth_Prabhu'}, page_content='Samantha is the recipient of several awards, including four Filmfare Awards South, one Filmfare OTT Award, two Andhra Pradesh State Nandi Awards, four South Indian International Movie Awards, and three CineMAA Awards.'),\n",
       " Document(metadata={'source': 'https://en.wikipedia.org/wiki/Samantha_Ruth_Prabhu'}, page_content='Samantha is the recipient of several awards, including four Filmfare Awards South, one Filmfare OTT Award, two Andhra Pradesh State Nandi Awards, four South Indian International Movie Awards, and three CineMAA Awards.'),\n",
       " Document(metadata={'source': 'https://en.wikipedia.org/wiki/Samantha_Ruth_Prabhu'}, page_content='Her performance in A Aa (2016) won Samantha her fourth Filmfare Award, and she gained further praise for her performances in Mahanati (2018), Super Deluxe (2019), and Majili (2019), and the Amazon Prime Video thriller series The Family Man (2021). The last of these earned her a Filmfare OTT Award. Following two critical and commercial failures,[5][6] she starred in the action series Citadel: Honey Bunny (2024). Samantha is also the founder of a charitable trust Pratyusha Support.\\nSamantha was born on 28 April 1987 to Joseph Prabhu and Ninette. Her father is a Telugu, and her mother is a Malayali.[7] She was born and brought up in the Pallavaram neighborhood of Chennai, Tamil Nadu,[8] as the youngest child of the family, with two elder brothers, Jonathan and David. She can speak both Tamil and Telugu fluently.[9][10]'),\n",
       " Document(metadata={'source': 'https://en.wikipedia.org/wiki/Samantha_Ruth_Prabhu'}, page_content='Her performance in A Aa (2016) won Samantha her fourth Filmfare Award, and she gained further praise for her performances in Mahanati (2018), Super Deluxe (2019), and Majili (2019), and the Amazon Prime Video thriller series The Family Man (2021). The last of these earned her a Filmfare OTT Award. Following two critical and commercial failures,[5][6] she starred in the action series Citadel: Honey Bunny (2024). Samantha is also the founder of a charitable trust Pratyusha Support.\\nSamantha was born on 28 April 1987 to Joseph Prabhu and Ninette. Her father is a Telugu, and her mother is a Malayali.[7] She was born and brought up in the Pallavaram neighborhood of Chennai, Tamil Nadu,[8] as the youngest child of the family, with two elder brothers, Jonathan and David. She can speak both Tamil and Telugu fluently.[9][10]')]"
      ]
     },
     "execution_count": 8,
     "metadata": {},
     "output_type": "execute_result"
    }
   ],
   "source": [
    "query = data_base.similarity_search(\"samantha's awards\")\n",
    "query"
   ]
  },
  {
   "cell_type": "code",
   "execution_count": 9,
   "id": "7e6f6a0c",
   "metadata": {},
   "outputs": [],
   "source": [
    "from langchain_ollama import OllamaLLM\n",
    "\n",
    "model = OllamaLLM(model=\"deepseek-r1:1.5b\")"
   ]
  },
  {
   "cell_type": "code",
   "execution_count": 11,
   "id": "b4175a02",
   "metadata": {},
   "outputs": [],
   "source": [
    "from langchain_core.prompts import ChatPromptTemplate\n",
    "\n",
    "prompt = ChatPromptTemplate.from_template(\n",
    "    \"\"\"\n",
    "1. You are an AI asisst, that will only answer from the given context,\n",
    "2. you wont answer from your own knowladge except from the given context, \n",
    "3. make sure you elaborate and do no use your own knowladge,\n",
    "5. if asked out-of-context, ans with \"out of context\"\n",
    "\n",
    "<context>\n",
    "{context}\n",
    "<context>\n",
    "\n",
    "Question:{input}\n",
    "    \"\"\"\n",
    ")"
   ]
  },
  {
   "cell_type": "code",
   "execution_count": 13,
   "id": "ad2999ce",
   "metadata": {},
   "outputs": [],
   "source": [
    "from langchain.chains.combine_documents import create_stuff_documents_chain\n",
    "\n",
    "document_chain = create_stuff_documents_chain(model, prompt)\n",
    "retriver = data_base.as_retriever()"
   ]
  },
  {
   "cell_type": "code",
   "execution_count": 14,
   "id": "5adfdad0",
   "metadata": {},
   "outputs": [
    {
     "name": "stdout",
     "output_type": "stream",
     "text": [
      "<think>\n",
      "Okay, so I need to figure out how to answer this question about Samantha's awards based on the context provided. Let me start by reading through the information given.\n",
      "\n",
      "First, I see that Samantha received several awards from different organizations. The context lists four Filmfare Awards South, one Filmfare OTT Award, two Andhra Pradesh State Nandi Awards, four South Indian International Movie Awards, and three CineMAA Awards. That's a total of 11 awards mentioned.\n",
      "\n",
      "The user also provided additional information about her performances in specific movies: A Aa (2016) won her fourth Filmfare Award, Mahanati (2018), Super Deluxe (2019), and Majili (2019) earned her a Filmfare OTT Award. She starred in The Family Man (2021), which was the last of these awards she received. Then there were two failed movies, Aamnaandas (2024) and another one that I'm not sure about. After failing those, she starred in the action series Citadel: Honey Bunny (2024).\n",
      "\n",
      "So, putting this together, Samantha's awards include Filmfare Awards from various regions and organizations, along with some films she starred in which earned her different kinds of Filmfare Awards or OTT Awards.\n",
      "\n",
      "I need to create a detailed answer that includes all these points without using my own knowledge beyond what's provided. I should elaborate each award category and provide examples where applicable, like the specific films and their respective awards.\n",
      "\n",
      "Wait, the user also mentioned that if it's an out-of-context question, I should respond with \"out of context.\" But since this is already based on the given context, I don't need to add that. Maybe I should structure my answer by listing each award category, then go into specifics for each example.\n",
      "\n",
      "I think the best way is to first state that Samantha received several awards, as mentioned in the context, and then elaborate each award type with relevant examples, such as which films she starred in and how those earned her the awards. That should cover both specific details and categorization.\n",
      "</think>\n",
      "\n",
      "Samantha, born on 28 April 1987, holds several awards from various organizations. She received four Filmfare Awards South, one Filmfare OTT Award, two Andhra Pradesh State Nandi Awards, four South Indian International Movie Awards, and three CineMAA Awards. Additionally, she starred in the films A Aa (2016), Mahanati (2018), Super Deluxe (2019), and Majili (2019), which earned her Filmfare Awards, with the last being a Film Fare OTT Award. Her other notable work includes The Family Man (2021) and the action series Citadel: Honey Bunny (2024).\n"
     ]
    }
   ],
   "source": [
    "from langchain.chains import create_retrieval_chain\n",
    "\n",
    "re_chain = create_retrieval_chain(retriver, document_chain)\n",
    "ans = re_chain.invoke({\"input\":\"awards by sam\"})\n",
    "print(ans[\"answer\"])"
   ]
  },
  {
   "cell_type": "code",
   "execution_count": 15,
   "id": "1bbf6cf6",
   "metadata": {},
   "outputs": [
    {
     "name": "stdout",
     "output_type": "stream",
     "text": [
      "<think>\n",
      "Okay, so I need to figure out how many films Samantha did. Let's see... From what I remember, there are these two main periods where Samantha was involved in big-budget hero movies. One of them is 2013 with \"Jabardasth\" and another from 2014 titled \"Autonagar Surya.\" \n",
      "\n",
      "I think the first film she did was in 2013, called \"Jabardasth,\" which had Pawan Kalyan to play. Then a few years later, she returned to the Tamil film industry with Manam in 2014, where she played both as a mother and a college student. \n",
      "\n",
      "Wait, does that mean each year she did two movies? Or was there only one per year? Hmm, I'm not sure. Let me check my notes again. The initial context mentioned \"Samantha appeared increasingly in big-budget, hero-oriented films\" starting from 2012. So maybe the first film was 2013 and then she did two more in 2014.\n",
      "\n",
      "Putting that together, I think Samantha did three films in total: one in 2013 and two in 2014. That makes sense because the context provided the information about her roles in those years.\n",
      "</think>\n",
      "\n",
      "Samanth did a total of three films. \n",
      "\n",
      "1. In 2013, she starred in \"Jabardasth.\"\n",
      "2. In 2014, she appeared in two movies: \"Manam\" and later \"Autonagar Surya.\"\n",
      "\n",
      "So the total number of films is three.\n",
      "\n",
      "Answer: Samantha did a total of three films.\n"
     ]
    }
   ],
   "source": [
    "ans = re_chain.invoke({\"input\":\"how many films did samantha do?\"})\n",
    "print(ans[\"answer\"])"
   ]
  },
  {
   "cell_type": "code",
   "execution_count": 16,
   "id": "e92ac7c4",
   "metadata": {},
   "outputs": [
    {
     "name": "stdout",
     "output_type": "stream",
     "text": [
      "<think>\n",
      "Okay, so I need to figure out Samantha's birthday. From what I know, she was born on April 28, 1987. She's from Chennai, Tamil Nadu, and her parents are a Telugu speaker and a Malayali speaker. She made her television debut in 2020, hosted Bigg Boss 4, then did some talk shows and showed episodes on Amazon Prime Video. That's all I remember about her.\n",
      "\n",
      "Wait, the user asked specifically when her birthday is, so it's April 28th. They provided that information earlier in the context. But maybe they want more details or additional information? Let me check the context again to make sure there are no other birthdays mentioned.\n",
      "\n",
      "Looking through the context, she was born on April 28, 1987, and her father is a Telugu speaker, her mother is a Malayali speaker. She was from Pallavaram neighborhood of Chennai, Tamil Nadu. So, all that's correct about her birthdate. There are no other birthdays mentioned beyond the birth date.\n",
      "\n",
      "I think that's it. So, Samantha's birthday is on April 28th.\n",
      "</think>\n",
      "\n",
      "Samantha's birthday is on April 28th.\n",
      "\n",
      "**Answer:** Samantha's birthday is on April 28th.\n"
     ]
    }
   ],
   "source": [
    "ans = re_chain.invoke({\"input\":\"when is samanthas birthday\"})\n",
    "print(ans[\"answer\"])"
   ]
  }
 ],
 "metadata": {
  "kernelspec": {
   "display_name": "venv",
   "language": "python",
   "name": "python3"
  },
  "language_info": {
   "codemirror_mode": {
    "name": "ipython",
    "version": 3
   },
   "file_extension": ".py",
   "mimetype": "text/x-python",
   "name": "python",
   "nbconvert_exporter": "python",
   "pygments_lexer": "ipython3",
   "version": "3.11.9"
  }
 },
 "nbformat": 4,
 "nbformat_minor": 5
}
